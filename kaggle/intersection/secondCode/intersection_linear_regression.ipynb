{
 "metadata": {
  "language_info": {
   "codemirror_mode": {
    "name": "ipython",
    "version": 3
   },
   "file_extension": ".py",
   "mimetype": "text/x-python",
   "name": "python",
   "nbconvert_exporter": "python",
   "pygments_lexer": "ipython3",
   "version": "3.8.6-final"
  },
  "orig_nbformat": 2,
  "kernelspec": {
   "name": "python3",
   "display_name": "Python 3",
   "language": "python"
  }
 },
 "nbformat": 4,
 "nbformat_minor": 2,
 "cells": [
  {
   "cell_type": "code",
   "execution_count": 46,
   "metadata": {},
   "outputs": [],
   "source": [
    "import pandas as pd\n",
    "import numpy as np\n",
    "import matplotlib.pyplot as plt\n",
    "from sklearn import linear_model"
   ]
  },
  {
   "cell_type": "code",
   "execution_count": 47,
   "metadata": {},
   "outputs": [],
   "source": [
    "train = pd.read_csv(\"../train.csv\")\n",
    "test = pd.read_csv(\"../test.csv\")\n",
    "train = train.iloc[:, 1:]\n",
    "test = test.iloc[:, 1:]"
   ]
  },
  {
   "cell_type": "code",
   "execution_count": 48,
   "metadata": {},
   "outputs": [
    {
     "output_type": "stream",
     "name": "stdout",
     "text": [
      "<class 'pandas.core.frame.DataFrame'>\nRangeIndex: 856387 entries, 0 to 856386\nData columns (total 27 columns):\n #   Column                   Non-Null Count   Dtype  \n---  ------                   --------------   -----  \n 0   IntersectionId           856387 non-null  int64  \n 1   Latitude                 856387 non-null  float64\n 2   Longitude                856387 non-null  float64\n 3   EntryStreetName          848239 non-null  object \n 4   ExitStreetName           850100 non-null  object \n 5   EntryHeading             856387 non-null  object \n 6   ExitHeading              856387 non-null  object \n 7   Hour                     856387 non-null  int64  \n 8   Weekend                  856387 non-null  int64  \n 9   Month                    856387 non-null  int64  \n 10  Path                     856387 non-null  object \n 11  TotalTimeStopped_p20     856387 non-null  float64\n 12  TotalTimeStopped_p40     856387 non-null  float64\n 13  TotalTimeStopped_p50     856387 non-null  float64\n 14  TotalTimeStopped_p60     856387 non-null  float64\n 15  TotalTimeStopped_p80     856387 non-null  float64\n 16  TimeFromFirstStop_p20    856387 non-null  float64\n 17  TimeFromFirstStop_p40    856387 non-null  float64\n 18  TimeFromFirstStop_p50    856387 non-null  float64\n 19  TimeFromFirstStop_p60    856387 non-null  float64\n 20  TimeFromFirstStop_p80    856387 non-null  float64\n 21  DistanceToFirstStop_p20  856387 non-null  float64\n 22  DistanceToFirstStop_p40  856387 non-null  float64\n 23  DistanceToFirstStop_p50  856387 non-null  float64\n 24  DistanceToFirstStop_p60  856387 non-null  float64\n 25  DistanceToFirstStop_p80  856387 non-null  float64\n 26  City                     856387 non-null  object \ndtypes: float64(17), int64(4), object(6)\nmemory usage: 176.4+ MB\n"
     ]
    }
   ],
   "source": [
    "train.info()"
   ]
  },
  {
   "source": [
    "## One-hot encoding"
   ],
   "cell_type": "markdown",
   "metadata": {}
  },
  {
   "cell_type": "code",
   "execution_count": 49,
   "metadata": {},
   "outputs": [],
   "source": [
    "# StreetName, Path 삭제\n",
    "str_col_onehot = ['City', 'EntryHeading', 'ExitHeading']\n",
    "\n",
    "train_onehot = train.copy()\n",
    "test_onehot = test.copy()"
   ]
  },
  {
   "cell_type": "code",
   "execution_count": 50,
   "metadata": {
    "tags": []
   },
   "outputs": [],
   "source": [
    "X = pd.get_dummies(train_onehot, columns=str_col_onehot)\n",
    "Y = train[['TotalTimeStopped_p20', 'TotalTimeStopped_p50', 'TotalTimeStopped_p80', 'DistanceToFirstStop_p20', 'DistanceToFirstStop_p50', 'DistanceToFirstStop_p80']]\n",
    "for col in X.columns:\n",
    "    if X[col].dtype == 'object':\n",
    "        X.drop(col, axis = 1, inplace = True)\n",
    "    if col.find('Stop') != -1:\n",
    "        X.drop(col, axis = 1, inplace = True)"
   ]
  },
  {
   "cell_type": "code",
   "execution_count": 51,
   "metadata": {},
   "outputs": [
    {
     "output_type": "stream",
     "name": "stdout",
     "text": [
      "<class 'pandas.core.frame.DataFrame'>\nRangeIndex: 856387 entries, 0 to 856386\nData columns (total 26 columns):\n #   Column             Non-Null Count   Dtype  \n---  ------             --------------   -----  \n 0   IntersectionId     856387 non-null  int64  \n 1   Latitude           856387 non-null  float64\n 2   Longitude          856387 non-null  float64\n 3   Hour               856387 non-null  int64  \n 4   Weekend            856387 non-null  int64  \n 5   Month              856387 non-null  int64  \n 6   City_Atlanta       856387 non-null  uint8  \n 7   City_Boston        856387 non-null  uint8  \n 8   City_Chicago       856387 non-null  uint8  \n 9   City_Philadelphia  856387 non-null  uint8  \n 10  EntryHeading_E     856387 non-null  uint8  \n 11  EntryHeading_N     856387 non-null  uint8  \n 12  EntryHeading_NE    856387 non-null  uint8  \n 13  EntryHeading_NW    856387 non-null  uint8  \n 14  EntryHeading_S     856387 non-null  uint8  \n 15  EntryHeading_SE    856387 non-null  uint8  \n 16  EntryHeading_SW    856387 non-null  uint8  \n 17  EntryHeading_W     856387 non-null  uint8  \n 18  ExitHeading_E      856387 non-null  uint8  \n 19  ExitHeading_N      856387 non-null  uint8  \n 20  ExitHeading_NE     856387 non-null  uint8  \n 21  ExitHeading_NW     856387 non-null  uint8  \n 22  ExitHeading_S      856387 non-null  uint8  \n 23  ExitHeading_SE     856387 non-null  uint8  \n 24  ExitHeading_SW     856387 non-null  uint8  \n 25  ExitHeading_W      856387 non-null  uint8  \ndtypes: float64(2), int64(4), uint8(20)\nmemory usage: 55.5 MB\n"
     ]
    }
   ],
   "source": [
    "X.info()"
   ]
  },
  {
   "cell_type": "code",
   "execution_count": 52,
   "metadata": {},
   "outputs": [
    {
     "output_type": "execute_result",
     "data": {
      "text/plain": [
       "Index(['IntersectionId', 'Latitude', 'Longitude', 'Hour', 'Weekend', 'Month',\n",
       "       'City_Atlanta', 'City_Boston', 'City_Chicago', 'City_Philadelphia',\n",
       "       'EntryHeading_E', 'EntryHeading_N', 'EntryHeading_NE',\n",
       "       'EntryHeading_NW', 'EntryHeading_S', 'EntryHeading_SE',\n",
       "       'EntryHeading_SW', 'EntryHeading_W', 'ExitHeading_E', 'ExitHeading_N',\n",
       "       'ExitHeading_NE', 'ExitHeading_NW', 'ExitHeading_S', 'ExitHeading_SE',\n",
       "       'ExitHeading_SW', 'ExitHeading_W'],\n",
       "      dtype='object')"
      ]
     },
     "metadata": {},
     "execution_count": 52
    }
   ],
   "source": [
    "X.columns"
   ]
  },
  {
   "cell_type": "code",
   "execution_count": 53,
   "metadata": {},
   "outputs": [
    {
     "output_type": "stream",
     "name": "stdout",
     "text": [
      "Intercept: \n [  -406.41720098  -1380.79583328  -2439.86467992  -2168.90963314\n  -7925.03865787 -20101.09449459]\nCoefficients: \n [[-1.78877374e-04  4.74749448e+00 -2.77653996e+00  3.38969572e-02\n  -8.06420541e-01 -2.49937837e-02  1.39605296e+01  1.00061168e+01\n  -3.37986333e+01  9.83198694e+00  1.84918444e-01 -6.19367109e-02\n  -1.59479912e-01 -1.75509153e-01 -3.80301635e-02  3.42252857e-01\n  -1.84109896e-01  9.18945337e-02 -2.78408228e-01  1.90968875e-02\n  -1.54089912e-01  9.90325910e-02  1.43125859e-01  4.79351163e-01\n  -8.87892203e-02 -2.19319141e-01]\n [-6.51640079e-04  1.17315549e+01 -1.16363836e+01  1.21156314e-01\n  -3.50502175e+00 -4.82601958e-02  1.27333897e+01  6.56920095e+01\n  -1.23283409e+02  4.48580097e+01  4.73288378e-01 -3.73904760e-01\n  -5.57020599e-01 -4.77456963e-01 -1.01068281e-01  1.23637359e+00\n  -4.59942353e-01  2.59730985e-01 -6.45112862e-01  9.32121348e-02\n  -2.33965464e-01  5.05219176e-01  4.64639388e-01  9.07812072e-01\n  -2.19611355e-01 -8.72193090e-01]\n [-1.18175388e-03  1.95583667e+01 -2.12545454e+01  2.96543369e-01\n  -7.22532218e+00 -6.48113531e-02  1.45241610e+01  1.26134953e+02\n  -2.21744297e+02  8.10851836e+01  7.78972201e-01 -9.33836759e-01\n  -8.94130250e-01 -1.41343405e+00 -1.94240839e-01  2.73324372e+00\n  -4.51800815e-01  3.75226781e-01 -1.02122694e+00  1.26775776e-01\n  -4.22980210e-01  1.67096804e+00  4.56807854e-01  7.46019794e-01\n  -9.81793268e-04 -1.55538252e+00]\n [-9.28632784e-04  2.43191377e+01 -1.52841714e+01  1.10412041e-01\n  -2.46424192e+00 -9.58250754e-02  6.50697366e+01  5.92664923e+01\n  -1.81239068e+02  5.69028394e+01  6.78456598e-02 -5.68864397e-01\n  -1.14030549e+00  1.80696490e+00 -1.38226499e-01  1.04607920e+00\n  -1.08152559e+00  8.03220994e-03 -7.63296951e-01  3.17625780e-01\n  -2.31024344e-01 -1.03120091e+00  1.67856137e-01  1.92828420e+00\n   2.19062722e-01 -6.07306639e-01]\n [-3.24029702e-03  8.29010435e+01 -5.88191120e+01  3.99209377e-01\n  -1.06375342e+01 -4.00305657e-02  1.93104106e+02  2.57421149e+02\n  -6.76103390e+02  2.25578134e+02  9.12136903e-02 -9.02029507e-01\n  -4.39508775e+00  3.89610355e+00  1.12784967e+00  4.06480552e+00\n  -4.32926341e+00  4.46408237e-01 -2.70290513e+00 -1.18610155e+00\n   5.74739908e-01 -6.36424352e-01 -4.21476509e-01  4.63228897e+00\n   2.50473483e+00 -2.76485616e+00]\n [-5.28815294e-03  1.58950048e+02 -1.74724480e+02  1.04694925e+00\n  -2.19448314e+01  1.82298271e-01  9.03870472e+01  1.00723560e+03\n  -1.80397041e+03  7.06347760e+02 -1.92859321e+00 -3.52748331e+00\n  -9.47856830e+00  2.10737621e+00  5.01885069e-01  1.44401704e+01\n  -6.73515024e+00  4.62036341e+00 -5.93968500e+00 -4.75489774e+00\n   4.44017231e+00  1.96574307e+00 -4.11712650e+00  1.27658222e+01\n   5.17030143e+00 -9.53032979e+00]]\n"
     ]
    }
   ],
   "source": [
    "regr = linear_model.LinearRegression()\n",
    "regr.fit(X, Y)\n",
    "\n",
    "print('Intercept: \\n', regr.intercept_)\n",
    "print('Coefficients: \\n', regr.coef_)"
   ]
  },
  {
   "cell_type": "code",
   "execution_count": 54,
   "metadata": {},
   "outputs": [],
   "source": [
    "predict_X = pd.get_dummies(test_onehot, columns = str_col_onehot)\n",
    "\n",
    "for col in predict_X.columns:\n",
    "    if predict_X[col].dtype == 'object':\n",
    "        predict_X.drop(col, axis = 1, inplace = True)\n",
    "    if col.find('Stop') != -1:\n",
    "        predict_X.drop(col, axis = 1, inplace = True)"
   ]
  },
  {
   "cell_type": "code",
   "execution_count": 55,
   "metadata": {},
   "outputs": [
    {
     "output_type": "stream",
     "name": "stdout",
     "text": [
      "<class 'pandas.core.frame.DataFrame'>\nRangeIndex: 1921357 entries, 0 to 1921356\nData columns (total 26 columns):\n #   Column             Dtype  \n---  ------             -----  \n 0   IntersectionId     int64  \n 1   Latitude           float64\n 2   Longitude          float64\n 3   Hour               int64  \n 4   Weekend            int64  \n 5   Month              int64  \n 6   City_Atlanta       uint8  \n 7   City_Boston        uint8  \n 8   City_Chicago       uint8  \n 9   City_Philadelphia  uint8  \n 10  EntryHeading_E     uint8  \n 11  EntryHeading_N     uint8  \n 12  EntryHeading_NE    uint8  \n 13  EntryHeading_NW    uint8  \n 14  EntryHeading_S     uint8  \n 15  EntryHeading_SE    uint8  \n 16  EntryHeading_SW    uint8  \n 17  EntryHeading_W     uint8  \n 18  ExitHeading_E      uint8  \n 19  ExitHeading_N      uint8  \n 20  ExitHeading_NE     uint8  \n 21  ExitHeading_NW     uint8  \n 22  ExitHeading_S      uint8  \n 23  ExitHeading_SE     uint8  \n 24  ExitHeading_SW     uint8  \n 25  ExitHeading_W      uint8  \ndtypes: float64(2), int64(4), uint8(20)\nmemory usage: 124.6 MB\n"
     ]
    }
   ],
   "source": [
    "predict_X.info()"
   ]
  },
  {
   "cell_type": "code",
   "execution_count": 56,
   "metadata": {},
   "outputs": [
    {
     "output_type": "execute_result",
     "data": {
      "text/plain": [
       "array([[  1.63264433,   8.83705881,  26.80111085,   4.88422133,\n",
       "         25.91302562,  95.58485098],\n",
       "       [  2.24145542,  10.07591459,  28.41244029,   7.10230977,\n",
       "         30.03639902, 106.65391896],\n",
       "       [  1.67331504,   8.94849116,  27.6654387 ,   5.39308829,\n",
       "         27.90884488,  99.05839817],\n",
       "       ...,\n",
       "       [  0.67028056,   3.26326652,  13.74772737,   3.97198161,\n",
       "         20.89303493,  66.64644132],\n",
       "       [  1.03272556,   4.60009899,  15.75991775,   4.74714439,\n",
       "         23.23641458,  72.05964461],\n",
       "       [  1.06662252,   4.72125531,  16.05646112,   4.85755643,\n",
       "         23.63562396,  73.10659386]])"
      ]
     },
     "metadata": {},
     "execution_count": 56
    }
   ],
   "source": [
    "predict_Y = regr.predict(predict_X)\n",
    "predict_Y"
   ]
  },
  {
   "cell_type": "code",
   "execution_count": 57,
   "metadata": {},
   "outputs": [
    {
     "output_type": "execute_result",
     "data": {
      "text/plain": [
       "11528142"
      ]
     },
     "metadata": {},
     "execution_count": 57
    }
   ],
   "source": [
    "predict_Y.size"
   ]
  },
  {
   "cell_type": "code",
   "execution_count": 58,
   "metadata": {},
   "outputs": [
    {
     "output_type": "stream",
     "name": "stdout",
     "text": [
      "<class 'pandas.core.frame.DataFrame'>\nRangeIndex: 1921357 entries, 0 to 1921356\nData columns (total 12 columns):\n #   Column           Dtype  \n---  ------           -----  \n 0   IntersectionId   int64  \n 1   Latitude         float64\n 2   Longitude        float64\n 3   EntryStreetName  object \n 4   ExitStreetName   object \n 5   EntryHeading     object \n 6   ExitHeading      object \n 7   Hour             int64  \n 8   Weekend          int64  \n 9   Month            int64  \n 10  Path             object \n 11  City             object \ndtypes: float64(2), int64(4), object(6)\nmemory usage: 175.9+ MB\n"
     ]
    }
   ],
   "source": [
    "test.info()"
   ]
  },
  {
   "cell_type": "code",
   "execution_count": 59,
   "metadata": {},
   "outputs": [],
   "source": [
    "# predict_Y = pd.DataFrame(predict_Y)\n",
    "# predict_Y.rename(columns= {0: '_0', 1: '_1', 2: '_2', 3: '_3', 4: '_4', 5: '_5'}, inplace = True)\n",
    "# a = predict_Y.head().groupby(level=0)\n",
    "# a.groups\n",
    "predict_Y = pd.DataFrame(np.ravel(predict_Y))\n",
    "predict_Y_index = (predict_Y.index // 6).astype('string') + '_' + (predict_Y.index % 6).astype('string')\n",
    "predict_Y.set_index(predict_Y_index, inplace=True)"
   ]
  },
  {
   "cell_type": "code",
   "execution_count": 60,
   "metadata": {},
   "outputs": [],
   "source": [
    "submission = predict_Y.loc[:'1920334_5']"
   ]
  },
  {
   "cell_type": "code",
   "execution_count": 61,
   "metadata": {
    "tags": []
   },
   "outputs": [],
   "source": [
    "submission.to_csv(\"submission.csv\")"
   ]
  }
 ]
}
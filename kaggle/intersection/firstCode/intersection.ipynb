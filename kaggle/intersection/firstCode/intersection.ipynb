{
 "metadata": {
  "language_info": {
   "codemirror_mode": {
    "name": "ipython",
    "version": 3
   },
   "file_extension": ".py",
   "mimetype": "text/x-python",
   "name": "python",
   "nbconvert_exporter": "python",
   "pygments_lexer": "ipython3",
   "version": "3.8.6-final"
  },
  "orig_nbformat": 2,
  "kernelspec": {
   "name": "python3",
   "display_name": "Python 3",
   "language": "python"
  }
 },
 "nbformat": 4,
 "nbformat_minor": 2,
 "cells": [
  {
   "cell_type": "code",
   "execution_count": 1,
   "metadata": {},
   "outputs": [],
   "source": [
    "import pandas as pd\n",
    "import numpy as np\n",
    "import matplotlib.pyplot as plt\n",
    "from sklearn.ensemble import RandomForestRegressor"
   ]
  },
  {
   "cell_type": "code",
   "execution_count": 2,
   "metadata": {},
   "outputs": [
    {
     "output_type": "execute_result",
     "data": {
      "text/plain": [
       "          RowId  IntersectionId   Latitude  Longitude  \\\n",
       "0       1921357               0  33.791659 -84.430032   \n",
       "1       1921358               0  33.791659 -84.430032   \n",
       "2       1921359               0  33.791659 -84.430032   \n",
       "3       1921360               0  33.791659 -84.430032   \n",
       "4       1921361               0  33.791659 -84.430032   \n",
       "...         ...             ...        ...        ...   \n",
       "856382  2777739            1990  39.938232 -75.149930   \n",
       "856383  2777740            1990  39.938232 -75.149930   \n",
       "856384  2777741            1990  39.938232 -75.149930   \n",
       "856385  2777742            1990  39.938232 -75.149930   \n",
       "856386  2777743            1990  39.938232 -75.149930   \n",
       "\n",
       "                     EntryStreetName                ExitStreetName  \\\n",
       "0       Marietta Boulevard Northwest  Marietta Boulevard Northwest   \n",
       "1       Marietta Boulevard Northwest  Marietta Boulevard Northwest   \n",
       "2       Marietta Boulevard Northwest  Marietta Boulevard Northwest   \n",
       "3       Marietta Boulevard Northwest  Marietta Boulevard Northwest   \n",
       "4       Marietta Boulevard Northwest  Marietta Boulevard Northwest   \n",
       "...                              ...                           ...   \n",
       "856382              South 4th Street              Catharine Street   \n",
       "856383              South 4th Street              South 4th Street   \n",
       "856384              South 4th Street              South 4th Street   \n",
       "856385              Catharine Street              Catharine Street   \n",
       "856386              South 4th Street              South 4th Street   \n",
       "\n",
       "       EntryHeading ExitHeading  Hour  Weekend  ...  TimeFromFirstStop_p40  \\\n",
       "0                NW          NW     0        0  ...                    0.0   \n",
       "1                SE          SE     0        0  ...                    0.0   \n",
       "2                NW          NW     1        0  ...                    0.0   \n",
       "3                SE          SE     1        0  ...                    0.0   \n",
       "4                NW          NW     2        0  ...                    0.0   \n",
       "...             ...         ...   ...      ...  ...                    ...   \n",
       "856382            S           W    17        1  ...                    0.0   \n",
       "856383            S           S    18        1  ...                    0.0   \n",
       "856384            S           S    19        1  ...                    0.0   \n",
       "856385            W           W    20        1  ...                    0.0   \n",
       "856386            S           S    23        1  ...                    0.0   \n",
       "\n",
       "       TimeFromFirstStop_p50  TimeFromFirstStop_p60  TimeFromFirstStop_p80  \\\n",
       "0                        0.0                    0.0                    0.0   \n",
       "1                        0.0                    0.0                    0.0   \n",
       "2                        0.0                    0.0                    0.0   \n",
       "3                        0.0                    0.0                    0.0   \n",
       "4                        0.0                    0.0                    0.0   \n",
       "...                      ...                    ...                    ...   \n",
       "856382                   0.0                    0.0                   55.0   \n",
       "856383                   0.0                    0.0                    0.0   \n",
       "856384                   0.0                    0.0                    0.0   \n",
       "856385                   0.0                    0.0                    0.0   \n",
       "856386                   0.0                    0.0                    0.0   \n",
       "\n",
       "        DistanceToFirstStop_p20  DistanceToFirstStop_p40  \\\n",
       "0                           0.0                      0.0   \n",
       "1                           0.0                      0.0   \n",
       "2                           0.0                      0.0   \n",
       "3                           0.0                      0.0   \n",
       "4                           0.0                      0.0   \n",
       "...                         ...                      ...   \n",
       "856382                      0.0                      0.0   \n",
       "856383                      0.0                      0.0   \n",
       "856384                      0.0                      0.0   \n",
       "856385                      0.0                      0.0   \n",
       "856386                      0.0                      0.0   \n",
       "\n",
       "        DistanceToFirstStop_p50  DistanceToFirstStop_p60  \\\n",
       "0                           0.0                      0.0   \n",
       "1                           0.0                      0.0   \n",
       "2                           0.0                      0.0   \n",
       "3                           0.0                      0.0   \n",
       "4                           0.0                      0.0   \n",
       "...                         ...                      ...   \n",
       "856382                      0.0                      0.0   \n",
       "856383                      0.0                      0.0   \n",
       "856384                      0.0                      0.0   \n",
       "856385                      0.0                      0.0   \n",
       "856386                      0.0                      0.0   \n",
       "\n",
       "        DistanceToFirstStop_p80          City  \n",
       "0                           0.0       Atlanta  \n",
       "1                           0.0       Atlanta  \n",
       "2                           0.0       Atlanta  \n",
       "3                           0.0       Atlanta  \n",
       "4                           0.0       Atlanta  \n",
       "...                         ...           ...  \n",
       "856382                     75.5  Philadelphia  \n",
       "856383                      0.0  Philadelphia  \n",
       "856384                      0.0  Philadelphia  \n",
       "856385                      0.0  Philadelphia  \n",
       "856386                      0.0  Philadelphia  \n",
       "\n",
       "[856387 rows x 28 columns]"
      ],
      "text/html": "<div>\n<style scoped>\n    .dataframe tbody tr th:only-of-type {\n        vertical-align: middle;\n    }\n\n    .dataframe tbody tr th {\n        vertical-align: top;\n    }\n\n    .dataframe thead th {\n        text-align: right;\n    }\n</style>\n<table border=\"1\" class=\"dataframe\">\n  <thead>\n    <tr style=\"text-align: right;\">\n      <th></th>\n      <th>RowId</th>\n      <th>IntersectionId</th>\n      <th>Latitude</th>\n      <th>Longitude</th>\n      <th>EntryStreetName</th>\n      <th>ExitStreetName</th>\n      <th>EntryHeading</th>\n      <th>ExitHeading</th>\n      <th>Hour</th>\n      <th>Weekend</th>\n      <th>...</th>\n      <th>TimeFromFirstStop_p40</th>\n      <th>TimeFromFirstStop_p50</th>\n      <th>TimeFromFirstStop_p60</th>\n      <th>TimeFromFirstStop_p80</th>\n      <th>DistanceToFirstStop_p20</th>\n      <th>DistanceToFirstStop_p40</th>\n      <th>DistanceToFirstStop_p50</th>\n      <th>DistanceToFirstStop_p60</th>\n      <th>DistanceToFirstStop_p80</th>\n      <th>City</th>\n    </tr>\n  </thead>\n  <tbody>\n    <tr>\n      <th>0</th>\n      <td>1921357</td>\n      <td>0</td>\n      <td>33.791659</td>\n      <td>-84.430032</td>\n      <td>Marietta Boulevard Northwest</td>\n      <td>Marietta Boulevard Northwest</td>\n      <td>NW</td>\n      <td>NW</td>\n      <td>0</td>\n      <td>0</td>\n      <td>...</td>\n      <td>0.0</td>\n      <td>0.0</td>\n      <td>0.0</td>\n      <td>0.0</td>\n      <td>0.0</td>\n      <td>0.0</td>\n      <td>0.0</td>\n      <td>0.0</td>\n      <td>0.0</td>\n      <td>Atlanta</td>\n    </tr>\n    <tr>\n      <th>1</th>\n      <td>1921358</td>\n      <td>0</td>\n      <td>33.791659</td>\n      <td>-84.430032</td>\n      <td>Marietta Boulevard Northwest</td>\n      <td>Marietta Boulevard Northwest</td>\n      <td>SE</td>\n      <td>SE</td>\n      <td>0</td>\n      <td>0</td>\n      <td>...</td>\n      <td>0.0</td>\n      <td>0.0</td>\n      <td>0.0</td>\n      <td>0.0</td>\n      <td>0.0</td>\n      <td>0.0</td>\n      <td>0.0</td>\n      <td>0.0</td>\n      <td>0.0</td>\n      <td>Atlanta</td>\n    </tr>\n    <tr>\n      <th>2</th>\n      <td>1921359</td>\n      <td>0</td>\n      <td>33.791659</td>\n      <td>-84.430032</td>\n      <td>Marietta Boulevard Northwest</td>\n      <td>Marietta Boulevard Northwest</td>\n      <td>NW</td>\n      <td>NW</td>\n      <td>1</td>\n      <td>0</td>\n      <td>...</td>\n      <td>0.0</td>\n      <td>0.0</td>\n      <td>0.0</td>\n      <td>0.0</td>\n      <td>0.0</td>\n      <td>0.0</td>\n      <td>0.0</td>\n      <td>0.0</td>\n      <td>0.0</td>\n      <td>Atlanta</td>\n    </tr>\n    <tr>\n      <th>3</th>\n      <td>1921360</td>\n      <td>0</td>\n      <td>33.791659</td>\n      <td>-84.430032</td>\n      <td>Marietta Boulevard Northwest</td>\n      <td>Marietta Boulevard Northwest</td>\n      <td>SE</td>\n      <td>SE</td>\n      <td>1</td>\n      <td>0</td>\n      <td>...</td>\n      <td>0.0</td>\n      <td>0.0</td>\n      <td>0.0</td>\n      <td>0.0</td>\n      <td>0.0</td>\n      <td>0.0</td>\n      <td>0.0</td>\n      <td>0.0</td>\n      <td>0.0</td>\n      <td>Atlanta</td>\n    </tr>\n    <tr>\n      <th>4</th>\n      <td>1921361</td>\n      <td>0</td>\n      <td>33.791659</td>\n      <td>-84.430032</td>\n      <td>Marietta Boulevard Northwest</td>\n      <td>Marietta Boulevard Northwest</td>\n      <td>NW</td>\n      <td>NW</td>\n      <td>2</td>\n      <td>0</td>\n      <td>...</td>\n      <td>0.0</td>\n      <td>0.0</td>\n      <td>0.0</td>\n      <td>0.0</td>\n      <td>0.0</td>\n      <td>0.0</td>\n      <td>0.0</td>\n      <td>0.0</td>\n      <td>0.0</td>\n      <td>Atlanta</td>\n    </tr>\n    <tr>\n      <th>...</th>\n      <td>...</td>\n      <td>...</td>\n      <td>...</td>\n      <td>...</td>\n      <td>...</td>\n      <td>...</td>\n      <td>...</td>\n      <td>...</td>\n      <td>...</td>\n      <td>...</td>\n      <td>...</td>\n      <td>...</td>\n      <td>...</td>\n      <td>...</td>\n      <td>...</td>\n      <td>...</td>\n      <td>...</td>\n      <td>...</td>\n      <td>...</td>\n      <td>...</td>\n      <td>...</td>\n    </tr>\n    <tr>\n      <th>856382</th>\n      <td>2777739</td>\n      <td>1990</td>\n      <td>39.938232</td>\n      <td>-75.149930</td>\n      <td>South 4th Street</td>\n      <td>Catharine Street</td>\n      <td>S</td>\n      <td>W</td>\n      <td>17</td>\n      <td>1</td>\n      <td>...</td>\n      <td>0.0</td>\n      <td>0.0</td>\n      <td>0.0</td>\n      <td>55.0</td>\n      <td>0.0</td>\n      <td>0.0</td>\n      <td>0.0</td>\n      <td>0.0</td>\n      <td>75.5</td>\n      <td>Philadelphia</td>\n    </tr>\n    <tr>\n      <th>856383</th>\n      <td>2777740</td>\n      <td>1990</td>\n      <td>39.938232</td>\n      <td>-75.149930</td>\n      <td>South 4th Street</td>\n      <td>South 4th Street</td>\n      <td>S</td>\n      <td>S</td>\n      <td>18</td>\n      <td>1</td>\n      <td>...</td>\n      <td>0.0</td>\n      <td>0.0</td>\n      <td>0.0</td>\n      <td>0.0</td>\n      <td>0.0</td>\n      <td>0.0</td>\n      <td>0.0</td>\n      <td>0.0</td>\n      <td>0.0</td>\n      <td>Philadelphia</td>\n    </tr>\n    <tr>\n      <th>856384</th>\n      <td>2777741</td>\n      <td>1990</td>\n      <td>39.938232</td>\n      <td>-75.149930</td>\n      <td>South 4th Street</td>\n      <td>South 4th Street</td>\n      <td>S</td>\n      <td>S</td>\n      <td>19</td>\n      <td>1</td>\n      <td>...</td>\n      <td>0.0</td>\n      <td>0.0</td>\n      <td>0.0</td>\n      <td>0.0</td>\n      <td>0.0</td>\n      <td>0.0</td>\n      <td>0.0</td>\n      <td>0.0</td>\n      <td>0.0</td>\n      <td>Philadelphia</td>\n    </tr>\n    <tr>\n      <th>856385</th>\n      <td>2777742</td>\n      <td>1990</td>\n      <td>39.938232</td>\n      <td>-75.149930</td>\n      <td>Catharine Street</td>\n      <td>Catharine Street</td>\n      <td>W</td>\n      <td>W</td>\n      <td>20</td>\n      <td>1</td>\n      <td>...</td>\n      <td>0.0</td>\n      <td>0.0</td>\n      <td>0.0</td>\n      <td>0.0</td>\n      <td>0.0</td>\n      <td>0.0</td>\n      <td>0.0</td>\n      <td>0.0</td>\n      <td>0.0</td>\n      <td>Philadelphia</td>\n    </tr>\n    <tr>\n      <th>856386</th>\n      <td>2777743</td>\n      <td>1990</td>\n      <td>39.938232</td>\n      <td>-75.149930</td>\n      <td>South 4th Street</td>\n      <td>South 4th Street</td>\n      <td>S</td>\n      <td>S</td>\n      <td>23</td>\n      <td>1</td>\n      <td>...</td>\n      <td>0.0</td>\n      <td>0.0</td>\n      <td>0.0</td>\n      <td>0.0</td>\n      <td>0.0</td>\n      <td>0.0</td>\n      <td>0.0</td>\n      <td>0.0</td>\n      <td>0.0</td>\n      <td>Philadelphia</td>\n    </tr>\n  </tbody>\n</table>\n<p>856387 rows × 28 columns</p>\n</div>"
     },
     "metadata": {},
     "execution_count": 2
    }
   ],
   "source": [
    "train = pd.read_csv(\"./train.csv\")\n",
    "test = pd.read_csv(\"./test.csv\")\n",
    "train"
   ]
  },
  {
   "cell_type": "code",
   "execution_count": 3,
   "metadata": {},
   "outputs": [
    {
     "output_type": "stream",
     "name": "stdout",
     "text": [
      "<class 'pandas.core.frame.DataFrame'>\nRangeIndex: 856387 entries, 0 to 856386\nData columns (total 28 columns):\n #   Column                   Non-Null Count   Dtype  \n---  ------                   --------------   -----  \n 0   RowId                    856387 non-null  int64  \n 1   IntersectionId           856387 non-null  int64  \n 2   Latitude                 856387 non-null  float64\n 3   Longitude                856387 non-null  float64\n 4   EntryStreetName          848239 non-null  object \n 5   ExitStreetName           850100 non-null  object \n 6   EntryHeading             856387 non-null  object \n 7   ExitHeading              856387 non-null  object \n 8   Hour                     856387 non-null  int64  \n 9   Weekend                  856387 non-null  int64  \n 10  Month                    856387 non-null  int64  \n 11  Path                     856387 non-null  object \n 12  TotalTimeStopped_p20     856387 non-null  float64\n 13  TotalTimeStopped_p40     856387 non-null  float64\n 14  TotalTimeStopped_p50     856387 non-null  float64\n 15  TotalTimeStopped_p60     856387 non-null  float64\n 16  TotalTimeStopped_p80     856387 non-null  float64\n 17  TimeFromFirstStop_p20    856387 non-null  float64\n 18  TimeFromFirstStop_p40    856387 non-null  float64\n 19  TimeFromFirstStop_p50    856387 non-null  float64\n 20  TimeFromFirstStop_p60    856387 non-null  float64\n 21  TimeFromFirstStop_p80    856387 non-null  float64\n 22  DistanceToFirstStop_p20  856387 non-null  float64\n 23  DistanceToFirstStop_p40  856387 non-null  float64\n 24  DistanceToFirstStop_p50  856387 non-null  float64\n 25  DistanceToFirstStop_p60  856387 non-null  float64\n 26  DistanceToFirstStop_p80  856387 non-null  float64\n 27  City                     856387 non-null  object \ndtypes: float64(17), int64(5), object(6)\nmemory usage: 182.9+ MB\n"
     ]
    }
   ],
   "source": [
    "train.info()"
   ]
  },
  {
   "source": [
    "## One-hot encoding"
   ],
   "cell_type": "markdown",
   "metadata": {}
  },
  {
   "cell_type": "code",
   "execution_count": 4,
   "metadata": {},
   "outputs": [
    {
     "output_type": "stream",
     "name": "stdout",
     "text": [
      "EntryStreetName\n",
      "ExitStreetName\n",
      "EntryHeading\n",
      "ExitHeading\n",
      "Path\n",
      "City\n"
     ]
    }
   ],
   "source": [
    "str_col = ['EntryStreetName', 'ExitStreetName', 'EntryHeading', 'ExitHeading', 'Path', 'City']\n",
    "train_onehot = train.copy()\n",
    "test_onehot = test.copy()\n",
    "for col in str_col:\n",
    "    head = train[col].value_counts().head(80).index.tolist()\n",
    "    train_onehot[col] = train_onehot[col].apply(lambda x: 'pleaseRemove' if head.count(x) == 0 else x)\n",
    "    test_onehot[col] = test_onehot[col].apply(lambda x: 'pleaseRemove' if head.count(x) == 0 else x)\n",
    "    print(col)\n",
    "\n",
    "# print(train['ExitStreetName'].value_counts())\n",
    "# print(train['EntryHeading'].value_counts())\n",
    "# print(train['ExitHeading'].value_counts())\n",
    "# print(train['Path'].value_counts())\n",
    "# print(train['City'].value_counts())"
   ]
  },
  {
   "cell_type": "code",
   "execution_count": 5,
   "metadata": {
    "tags": []
   },
   "outputs": [],
   "source": [
    "X = pd.get_dummies(train_onehot, columns=['EntryStreetName', 'ExitStreetName', 'EntryHeading', 'ExitHeading', 'Path', 'City'])\n",
    "Y = train[['TotalTimeStopped_p20', 'TotalTimeStopped_p50', 'TotalTimeStopped_p80', 'DistanceToFirstStop_p20', 'DistanceToFirstStop_p50', 'DistanceToFirstStop_p80']]\n",
    "\n",
    "for col in X.columns.tolist():\n",
    "    if col.find('pleaseRemove') != -1:\n",
    "        X.drop(col, axis = 1, inplace = True)\n",
    "    if col.find('Stop') != -1:\n",
    "        X.drop(col, axis = 1, inplace = True)"
   ]
  },
  {
   "cell_type": "code",
   "execution_count": 6,
   "metadata": {},
   "outputs": [
    {
     "output_type": "stream",
     "name": "stdout",
     "text": [
      "<class 'pandas.core.frame.DataFrame'>\nRangeIndex: 856387 entries, 0 to 856386\nColumns: 267 entries, RowId to City_Philadelphia\ndtypes: float64(2), int64(5), uint8(260)\nmemory usage: 258.1 MB\n"
     ]
    }
   ],
   "source": [
    "X.info()"
   ]
  },
  {
   "cell_type": "code",
   "execution_count": 7,
   "metadata": {},
   "outputs": [
    {
     "output_type": "execute_result",
     "data": {
      "text/plain": [
       "Index(['RowId', 'IntersectionId', 'Latitude', 'Longitude', 'Hour', 'Weekend',\n",
       "       'Month', 'EntryStreetName_10th Street Northwest',\n",
       "       'EntryStreetName_17th Street Northwest',\n",
       "       'EntryStreetName_Aramingo Avenue',\n",
       "       ...\n",
       "       'Path_West Lehigh Avenue_E_West Lehigh Avenue_E',\n",
       "       'Path_West Lehigh Avenue_W_West Lehigh Avenue_W',\n",
       "       'Path_West North Avenue_E_West North Avenue_E',\n",
       "       'Path_West North Avenue_W_West North Avenue_W',\n",
       "       'Path_West Roosevelt Road_E_West Roosevelt Road_E',\n",
       "       'Path_West Roosevelt Road_W_West Roosevelt Road_W', 'City_Atlanta',\n",
       "       'City_Boston', 'City_Chicago', 'City_Philadelphia'],\n",
       "      dtype='object', length=267)"
      ]
     },
     "metadata": {},
     "execution_count": 7
    }
   ],
   "source": [
    "X.columns"
   ]
  },
  {
   "cell_type": "code",
   "execution_count": 8,
   "metadata": {},
   "outputs": [],
   "source": [
    "predict_X = pd.get_dummies(test_onehot, columns=['EntryStreetName', 'ExitStreetName', 'EntryHeading', 'ExitHeading', 'Path', 'City'])"
   ]
  },
  {
   "cell_type": "code",
   "execution_count": 9,
   "metadata": {},
   "outputs": [],
   "source": [
    "for col in predict_X.columns.tolist():\n",
    "    if col.find('pleaseRemove') != -1:\n",
    "        predict_X.drop(col, axis = 1, inplace = True)"
   ]
  },
  {
   "cell_type": "code",
   "execution_count": 10,
   "metadata": {},
   "outputs": [
    {
     "output_type": "stream",
     "name": "stdout",
     "text": [
      "<class 'pandas.core.frame.DataFrame'>\nRangeIndex: 1921357 entries, 0 to 1921356\nColumns: 267 entries, RowId to City_Philadelphia\ndtypes: float64(2), int64(5), uint8(260)\nmemory usage: 579.0 MB\n"
     ]
    }
   ],
   "source": [
    "predict_X.info()"
   ]
  },
  {
   "cell_type": "code",
   "execution_count": 11,
   "metadata": {},
   "outputs": [
    {
     "output_type": "execute_result",
     "data": {
      "text/plain": [
       "RandomForestRegressor()"
      ]
     },
     "metadata": {},
     "execution_count": 11
    }
   ],
   "source": [
    "ml = RandomForestRegressor()\n",
    "ml.fit(X, Y)"
   ]
  },
  {
   "cell_type": "code",
   "execution_count": 12,
   "metadata": {},
   "outputs": [
    {
     "output_type": "execute_result",
     "data": {
      "text/plain": [
       "array([[ 0.16 ,  2.68 , 25.74 ,  1.062, 13.524, 63.168],\n",
       "       [ 0.   ,  1.21 , 25.99 ,  0.   ,  1.68 , 52.278],\n",
       "       [ 0.   ,  0.64 ,  6.82 ,  0.   ,  1.106, 19.979],\n",
       "       ...,\n",
       "       [ 0.88 ,  3.96 , 13.56 ,  4.43 , 14.033, 52.17 ],\n",
       "       [ 1.22 ,  4.36 , 12.12 ,  6.283, 14.421, 48.453],\n",
       "       [ 1.3  ,  4.35 , 11.85 ,  6.851, 14.644, 47.868]])"
      ]
     },
     "metadata": {},
     "execution_count": 12
    }
   ],
   "source": [
    "predict_Y = ml.predict(predict_X)\n",
    "predict_Y"
   ]
  },
  {
   "cell_type": "code",
   "execution_count": 13,
   "metadata": {},
   "outputs": [],
   "source": [
    "# predict_Y = pd.DataFrame(predict_Y)\n",
    "# predict_Y.rename(columns= {0: '_0', 1: '_1', 2: '_2', 3: '_3', 4: '_4', 5: '_5'}, inplace = True)\n",
    "# a = predict_Y.head().groupby(level=0)\n",
    "# a.groups\n",
    "predict_Y = pd.DataFrame(np.ravel(predict_Y))\n",
    "predict_Y_index = (predict_Y.index // 6).astype('string') + '_' + (predict_Y.index % 6).astype('string')\n",
    "predict_Y.set_index(predict_Y_index, inplace=True)"
   ]
  },
  {
   "cell_type": "code",
   "execution_count": null,
   "metadata": {},
   "outputs": [],
   "source": [
    "train.columns"
   ]
  },
  {
   "cell_type": "code",
   "execution_count": 15,
   "metadata": {},
   "outputs": [
    {
     "output_type": "execute_result",
     "data": {
      "text/plain": [
       "                0\n",
       "0_0         0.160\n",
       "0_1         2.680\n",
       "0_2        25.740\n",
       "0_3         1.062\n",
       "0_4        13.524\n",
       "...           ...\n",
       "1921356_1   4.350\n",
       "1921356_2  11.850\n",
       "1921356_3   6.851\n",
       "1921356_4  14.644\n",
       "1921356_5  47.868\n",
       "\n",
       "[11528142 rows x 1 columns]"
      ],
      "text/html": "<div>\n<style scoped>\n    .dataframe tbody tr th:only-of-type {\n        vertical-align: middle;\n    }\n\n    .dataframe tbody tr th {\n        vertical-align: top;\n    }\n\n    .dataframe thead th {\n        text-align: right;\n    }\n</style>\n<table border=\"1\" class=\"dataframe\">\n  <thead>\n    <tr style=\"text-align: right;\">\n      <th></th>\n      <th>0</th>\n    </tr>\n  </thead>\n  <tbody>\n    <tr>\n      <th>0_0</th>\n      <td>0.160</td>\n    </tr>\n    <tr>\n      <th>0_1</th>\n      <td>2.680</td>\n    </tr>\n    <tr>\n      <th>0_2</th>\n      <td>25.740</td>\n    </tr>\n    <tr>\n      <th>0_3</th>\n      <td>1.062</td>\n    </tr>\n    <tr>\n      <th>0_4</th>\n      <td>13.524</td>\n    </tr>\n    <tr>\n      <th>...</th>\n      <td>...</td>\n    </tr>\n    <tr>\n      <th>1921356_1</th>\n      <td>4.350</td>\n    </tr>\n    <tr>\n      <th>1921356_2</th>\n      <td>11.850</td>\n    </tr>\n    <tr>\n      <th>1921356_3</th>\n      <td>6.851</td>\n    </tr>\n    <tr>\n      <th>1921356_4</th>\n      <td>14.644</td>\n    </tr>\n    <tr>\n      <th>1921356_5</th>\n      <td>47.868</td>\n    </tr>\n  </tbody>\n</table>\n<p>11528142 rows × 1 columns</p>\n</div>"
     },
     "metadata": {},
     "execution_count": 15
    }
   ],
   "source": [
    "predict_Y"
   ]
  },
  {
   "cell_type": "code",
   "execution_count": 16,
   "metadata": {},
   "outputs": [],
   "source": [
    "predict_Y.to_csv(\"submission.csv\")"
   ]
  },
  {
   "cell_type": "code",
   "execution_count": null,
   "metadata": {},
   "outputs": [],
   "source": []
  }
 ]
}
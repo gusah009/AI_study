{
 "metadata": {
  "language_info": {
   "codemirror_mode": {
    "name": "ipython",
    "version": 3
   },
   "file_extension": ".py",
   "mimetype": "text/x-python",
   "name": "python",
   "nbconvert_exporter": "python",
   "pygments_lexer": "ipython3",
   "version": "3.8.6-final"
  },
  "orig_nbformat": 2,
  "kernelspec": {
   "name": "python3",
   "display_name": "Python 3",
   "language": "python"
  }
 },
 "nbformat": 4,
 "nbformat_minor": 2,
 "cells": [
  {
   "cell_type": "code",
   "execution_count": 6,
   "metadata": {},
   "outputs": [],
   "source": [
    "import pandas as pd\n",
    "import numpy as np\n",
    "import matplotlib.pyplot as plt\n",
    "from sklearn.ensemble import RandomForestRegressor"
   ]
  },
  {
   "cell_type": "code",
   "execution_count": 7,
   "metadata": {},
   "outputs": [],
   "source": [
    "train = pd.read_csv(\"../train.csv\")\n",
    "test = pd.read_csv(\"../test.csv\")\n",
    "train = train.iloc[:, 1:]\n",
    "test = test.iloc[:, 1:]"
   ]
  },
  {
   "cell_type": "code",
   "execution_count": 8,
   "metadata": {},
   "outputs": [
    {
     "output_type": "stream",
     "name": "stdout",
     "text": [
      "<class 'pandas.core.frame.DataFrame'>\nRangeIndex: 856387 entries, 0 to 856386\nData columns (total 27 columns):\n #   Column                   Non-Null Count   Dtype  \n---  ------                   --------------   -----  \n 0   IntersectionId           856387 non-null  int64  \n 1   Latitude                 856387 non-null  float64\n 2   Longitude                856387 non-null  float64\n 3   EntryStreetName          848239 non-null  object \n 4   ExitStreetName           850100 non-null  object \n 5   EntryHeading             856387 non-null  object \n 6   ExitHeading              856387 non-null  object \n 7   Hour                     856387 non-null  int64  \n 8   Weekend                  856387 non-null  int64  \n 9   Month                    856387 non-null  int64  \n 10  Path                     856387 non-null  object \n 11  TotalTimeStopped_p20     856387 non-null  float64\n 12  TotalTimeStopped_p40     856387 non-null  float64\n 13  TotalTimeStopped_p50     856387 non-null  float64\n 14  TotalTimeStopped_p60     856387 non-null  float64\n 15  TotalTimeStopped_p80     856387 non-null  float64\n 16  TimeFromFirstStop_p20    856387 non-null  float64\n 17  TimeFromFirstStop_p40    856387 non-null  float64\n 18  TimeFromFirstStop_p50    856387 non-null  float64\n 19  TimeFromFirstStop_p60    856387 non-null  float64\n 20  TimeFromFirstStop_p80    856387 non-null  float64\n 21  DistanceToFirstStop_p20  856387 non-null  float64\n 22  DistanceToFirstStop_p40  856387 non-null  float64\n 23  DistanceToFirstStop_p50  856387 non-null  float64\n 24  DistanceToFirstStop_p60  856387 non-null  float64\n 25  DistanceToFirstStop_p80  856387 non-null  float64\n 26  City                     856387 non-null  object \ndtypes: float64(17), int64(4), object(6)\nmemory usage: 176.4+ MB\n"
     ]
    }
   ],
   "source": [
    "train.info()"
   ]
  },
  {
   "source": [
    "## One-hot encoding"
   ],
   "cell_type": "markdown",
   "metadata": {}
  },
  {
   "cell_type": "code",
   "execution_count": 9,
   "metadata": {},
   "outputs": [],
   "source": [
    "# StreetName, Path 삭제\n",
    "str_col_onehot = ['City', 'EntryHeading', 'ExitHeading']\n",
    "\n",
    "train_onehot = train.copy()\n",
    "test_onehot = test.copy()"
   ]
  },
  {
   "cell_type": "code",
   "execution_count": 10,
   "metadata": {
    "tags": []
   },
   "outputs": [],
   "source": [
    "X = pd.get_dummies(train_onehot, columns=str_col_onehot)\n",
    "Y = train[['TotalTimeStopped_p20', 'TotalTimeStopped_p50', 'TotalTimeStopped_p80', 'DistanceToFirstStop_p20', 'DistanceToFirstStop_p50', 'DistanceToFirstStop_p80']]\n",
    "for col in X.columns:\n",
    "    if X[col].dtype == 'object':\n",
    "        X.drop(col, axis = 1, inplace = True)\n",
    "    if col.find('Stop') != -1:\n",
    "        X.drop(col, axis = 1, inplace = True)"
   ]
  },
  {
   "cell_type": "code",
   "execution_count": 11,
   "metadata": {},
   "outputs": [
    {
     "output_type": "execute_result",
     "data": {
      "text/plain": [
       "        IntersectionId   Latitude  Longitude  Hour  Weekend  Month  \\\n",
       "0                    0  33.791659 -84.430032     0        0      6   \n",
       "1                    0  33.791659 -84.430032     0        0      6   \n",
       "2                    0  33.791659 -84.430032     1        0      6   \n",
       "3                    0  33.791659 -84.430032     1        0      6   \n",
       "4                    0  33.791659 -84.430032     2        0      6   \n",
       "...                ...        ...        ...   ...      ...    ...   \n",
       "856382            1990  39.938232 -75.149930    17        1     12   \n",
       "856383            1990  39.938232 -75.149930    18        1     12   \n",
       "856384            1990  39.938232 -75.149930    19        1     12   \n",
       "856385            1990  39.938232 -75.149930    20        1     12   \n",
       "856386            1990  39.938232 -75.149930    23        1     12   \n",
       "\n",
       "        City_Atlanta  City_Boston  City_Chicago  City_Philadelphia  ...  \\\n",
       "0                  1            0             0                  0  ...   \n",
       "1                  1            0             0                  0  ...   \n",
       "2                  1            0             0                  0  ...   \n",
       "3                  1            0             0                  0  ...   \n",
       "4                  1            0             0                  0  ...   \n",
       "...              ...          ...           ...                ...  ...   \n",
       "856382             0            0             0                  1  ...   \n",
       "856383             0            0             0                  1  ...   \n",
       "856384             0            0             0                  1  ...   \n",
       "856385             0            0             0                  1  ...   \n",
       "856386             0            0             0                  1  ...   \n",
       "\n",
       "        EntryHeading_SW  EntryHeading_W  ExitHeading_E  ExitHeading_N  \\\n",
       "0                     0               0              0              0   \n",
       "1                     0               0              0              0   \n",
       "2                     0               0              0              0   \n",
       "3                     0               0              0              0   \n",
       "4                     0               0              0              0   \n",
       "...                 ...             ...            ...            ...   \n",
       "856382                0               0              0              0   \n",
       "856383                0               0              0              0   \n",
       "856384                0               0              0              0   \n",
       "856385                0               1              0              0   \n",
       "856386                0               0              0              0   \n",
       "\n",
       "        ExitHeading_NE  ExitHeading_NW  ExitHeading_S  ExitHeading_SE  \\\n",
       "0                    0               1              0               0   \n",
       "1                    0               0              0               1   \n",
       "2                    0               1              0               0   \n",
       "3                    0               0              0               1   \n",
       "4                    0               1              0               0   \n",
       "...                ...             ...            ...             ...   \n",
       "856382               0               0              0               0   \n",
       "856383               0               0              1               0   \n",
       "856384               0               0              1               0   \n",
       "856385               0               0              0               0   \n",
       "856386               0               0              1               0   \n",
       "\n",
       "        ExitHeading_SW  ExitHeading_W  \n",
       "0                    0              0  \n",
       "1                    0              0  \n",
       "2                    0              0  \n",
       "3                    0              0  \n",
       "4                    0              0  \n",
       "...                ...            ...  \n",
       "856382               0              1  \n",
       "856383               0              0  \n",
       "856384               0              0  \n",
       "856385               0              1  \n",
       "856386               0              0  \n",
       "\n",
       "[856387 rows x 26 columns]"
      ],
      "text/html": "<div>\n<style scoped>\n    .dataframe tbody tr th:only-of-type {\n        vertical-align: middle;\n    }\n\n    .dataframe tbody tr th {\n        vertical-align: top;\n    }\n\n    .dataframe thead th {\n        text-align: right;\n    }\n</style>\n<table border=\"1\" class=\"dataframe\">\n  <thead>\n    <tr style=\"text-align: right;\">\n      <th></th>\n      <th>IntersectionId</th>\n      <th>Latitude</th>\n      <th>Longitude</th>\n      <th>Hour</th>\n      <th>Weekend</th>\n      <th>Month</th>\n      <th>City_Atlanta</th>\n      <th>City_Boston</th>\n      <th>City_Chicago</th>\n      <th>City_Philadelphia</th>\n      <th>...</th>\n      <th>EntryHeading_SW</th>\n      <th>EntryHeading_W</th>\n      <th>ExitHeading_E</th>\n      <th>ExitHeading_N</th>\n      <th>ExitHeading_NE</th>\n      <th>ExitHeading_NW</th>\n      <th>ExitHeading_S</th>\n      <th>ExitHeading_SE</th>\n      <th>ExitHeading_SW</th>\n      <th>ExitHeading_W</th>\n    </tr>\n  </thead>\n  <tbody>\n    <tr>\n      <th>0</th>\n      <td>0</td>\n      <td>33.791659</td>\n      <td>-84.430032</td>\n      <td>0</td>\n      <td>0</td>\n      <td>6</td>\n      <td>1</td>\n      <td>0</td>\n      <td>0</td>\n      <td>0</td>\n      <td>...</td>\n      <td>0</td>\n      <td>0</td>\n      <td>0</td>\n      <td>0</td>\n      <td>0</td>\n      <td>1</td>\n      <td>0</td>\n      <td>0</td>\n      <td>0</td>\n      <td>0</td>\n    </tr>\n    <tr>\n      <th>1</th>\n      <td>0</td>\n      <td>33.791659</td>\n      <td>-84.430032</td>\n      <td>0</td>\n      <td>0</td>\n      <td>6</td>\n      <td>1</td>\n      <td>0</td>\n      <td>0</td>\n      <td>0</td>\n      <td>...</td>\n      <td>0</td>\n      <td>0</td>\n      <td>0</td>\n      <td>0</td>\n      <td>0</td>\n      <td>0</td>\n      <td>0</td>\n      <td>1</td>\n      <td>0</td>\n      <td>0</td>\n    </tr>\n    <tr>\n      <th>2</th>\n      <td>0</td>\n      <td>33.791659</td>\n      <td>-84.430032</td>\n      <td>1</td>\n      <td>0</td>\n      <td>6</td>\n      <td>1</td>\n      <td>0</td>\n      <td>0</td>\n      <td>0</td>\n      <td>...</td>\n      <td>0</td>\n      <td>0</td>\n      <td>0</td>\n      <td>0</td>\n      <td>0</td>\n      <td>1</td>\n      <td>0</td>\n      <td>0</td>\n      <td>0</td>\n      <td>0</td>\n    </tr>\n    <tr>\n      <th>3</th>\n      <td>0</td>\n      <td>33.791659</td>\n      <td>-84.430032</td>\n      <td>1</td>\n      <td>0</td>\n      <td>6</td>\n      <td>1</td>\n      <td>0</td>\n      <td>0</td>\n      <td>0</td>\n      <td>...</td>\n      <td>0</td>\n      <td>0</td>\n      <td>0</td>\n      <td>0</td>\n      <td>0</td>\n      <td>0</td>\n      <td>0</td>\n      <td>1</td>\n      <td>0</td>\n      <td>0</td>\n    </tr>\n    <tr>\n      <th>4</th>\n      <td>0</td>\n      <td>33.791659</td>\n      <td>-84.430032</td>\n      <td>2</td>\n      <td>0</td>\n      <td>6</td>\n      <td>1</td>\n      <td>0</td>\n      <td>0</td>\n      <td>0</td>\n      <td>...</td>\n      <td>0</td>\n      <td>0</td>\n      <td>0</td>\n      <td>0</td>\n      <td>0</td>\n      <td>1</td>\n      <td>0</td>\n      <td>0</td>\n      <td>0</td>\n      <td>0</td>\n    </tr>\n    <tr>\n      <th>...</th>\n      <td>...</td>\n      <td>...</td>\n      <td>...</td>\n      <td>...</td>\n      <td>...</td>\n      <td>...</td>\n      <td>...</td>\n      <td>...</td>\n      <td>...</td>\n      <td>...</td>\n      <td>...</td>\n      <td>...</td>\n      <td>...</td>\n      <td>...</td>\n      <td>...</td>\n      <td>...</td>\n      <td>...</td>\n      <td>...</td>\n      <td>...</td>\n      <td>...</td>\n      <td>...</td>\n    </tr>\n    <tr>\n      <th>856382</th>\n      <td>1990</td>\n      <td>39.938232</td>\n      <td>-75.149930</td>\n      <td>17</td>\n      <td>1</td>\n      <td>12</td>\n      <td>0</td>\n      <td>0</td>\n      <td>0</td>\n      <td>1</td>\n      <td>...</td>\n      <td>0</td>\n      <td>0</td>\n      <td>0</td>\n      <td>0</td>\n      <td>0</td>\n      <td>0</td>\n      <td>0</td>\n      <td>0</td>\n      <td>0</td>\n      <td>1</td>\n    </tr>\n    <tr>\n      <th>856383</th>\n      <td>1990</td>\n      <td>39.938232</td>\n      <td>-75.149930</td>\n      <td>18</td>\n      <td>1</td>\n      <td>12</td>\n      <td>0</td>\n      <td>0</td>\n      <td>0</td>\n      <td>1</td>\n      <td>...</td>\n      <td>0</td>\n      <td>0</td>\n      <td>0</td>\n      <td>0</td>\n      <td>0</td>\n      <td>0</td>\n      <td>1</td>\n      <td>0</td>\n      <td>0</td>\n      <td>0</td>\n    </tr>\n    <tr>\n      <th>856384</th>\n      <td>1990</td>\n      <td>39.938232</td>\n      <td>-75.149930</td>\n      <td>19</td>\n      <td>1</td>\n      <td>12</td>\n      <td>0</td>\n      <td>0</td>\n      <td>0</td>\n      <td>1</td>\n      <td>...</td>\n      <td>0</td>\n      <td>0</td>\n      <td>0</td>\n      <td>0</td>\n      <td>0</td>\n      <td>0</td>\n      <td>1</td>\n      <td>0</td>\n      <td>0</td>\n      <td>0</td>\n    </tr>\n    <tr>\n      <th>856385</th>\n      <td>1990</td>\n      <td>39.938232</td>\n      <td>-75.149930</td>\n      <td>20</td>\n      <td>1</td>\n      <td>12</td>\n      <td>0</td>\n      <td>0</td>\n      <td>0</td>\n      <td>1</td>\n      <td>...</td>\n      <td>0</td>\n      <td>1</td>\n      <td>0</td>\n      <td>0</td>\n      <td>0</td>\n      <td>0</td>\n      <td>0</td>\n      <td>0</td>\n      <td>0</td>\n      <td>1</td>\n    </tr>\n    <tr>\n      <th>856386</th>\n      <td>1990</td>\n      <td>39.938232</td>\n      <td>-75.149930</td>\n      <td>23</td>\n      <td>1</td>\n      <td>12</td>\n      <td>0</td>\n      <td>0</td>\n      <td>0</td>\n      <td>1</td>\n      <td>...</td>\n      <td>0</td>\n      <td>0</td>\n      <td>0</td>\n      <td>0</td>\n      <td>0</td>\n      <td>0</td>\n      <td>1</td>\n      <td>0</td>\n      <td>0</td>\n      <td>0</td>\n    </tr>\n  </tbody>\n</table>\n<p>856387 rows × 26 columns</p>\n</div>"
     },
     "metadata": {},
     "execution_count": 11
    }
   ],
   "source": [
    "X"
   ]
  },
  {
   "cell_type": "code",
   "execution_count": 12,
   "metadata": {},
   "outputs": [
    {
     "output_type": "stream",
     "name": "stdout",
     "text": [
      "<class 'pandas.core.frame.DataFrame'>\nRangeIndex: 856387 entries, 0 to 856386\nData columns (total 26 columns):\n #   Column             Non-Null Count   Dtype  \n---  ------             --------------   -----  \n 0   IntersectionId     856387 non-null  int64  \n 1   Latitude           856387 non-null  float64\n 2   Longitude          856387 non-null  float64\n 3   Hour               856387 non-null  int64  \n 4   Weekend            856387 non-null  int64  \n 5   Month              856387 non-null  int64  \n 6   City_Atlanta       856387 non-null  uint8  \n 7   City_Boston        856387 non-null  uint8  \n 8   City_Chicago       856387 non-null  uint8  \n 9   City_Philadelphia  856387 non-null  uint8  \n 10  EntryHeading_E     856387 non-null  uint8  \n 11  EntryHeading_N     856387 non-null  uint8  \n 12  EntryHeading_NE    856387 non-null  uint8  \n 13  EntryHeading_NW    856387 non-null  uint8  \n 14  EntryHeading_S     856387 non-null  uint8  \n 15  EntryHeading_SE    856387 non-null  uint8  \n 16  EntryHeading_SW    856387 non-null  uint8  \n 17  EntryHeading_W     856387 non-null  uint8  \n 18  ExitHeading_E      856387 non-null  uint8  \n 19  ExitHeading_N      856387 non-null  uint8  \n 20  ExitHeading_NE     856387 non-null  uint8  \n 21  ExitHeading_NW     856387 non-null  uint8  \n 22  ExitHeading_S      856387 non-null  uint8  \n 23  ExitHeading_SE     856387 non-null  uint8  \n 24  ExitHeading_SW     856387 non-null  uint8  \n 25  ExitHeading_W      856387 non-null  uint8  \ndtypes: float64(2), int64(4), uint8(20)\nmemory usage: 55.5 MB\n"
     ]
    }
   ],
   "source": [
    "X.info()"
   ]
  },
  {
   "cell_type": "code",
   "execution_count": 13,
   "metadata": {},
   "outputs": [
    {
     "output_type": "execute_result",
     "data": {
      "text/plain": [
       "Index(['IntersectionId', 'Latitude', 'Longitude', 'Hour', 'Weekend', 'Month',\n",
       "       'City_Atlanta', 'City_Boston', 'City_Chicago', 'City_Philadelphia',\n",
       "       'EntryHeading_E', 'EntryHeading_N', 'EntryHeading_NE',\n",
       "       'EntryHeading_NW', 'EntryHeading_S', 'EntryHeading_SE',\n",
       "       'EntryHeading_SW', 'EntryHeading_W', 'ExitHeading_E', 'ExitHeading_N',\n",
       "       'ExitHeading_NE', 'ExitHeading_NW', 'ExitHeading_S', 'ExitHeading_SE',\n",
       "       'ExitHeading_SW', 'ExitHeading_W'],\n",
       "      dtype='object')"
      ]
     },
     "metadata": {},
     "execution_count": 13
    }
   ],
   "source": [
    "X.columns"
   ]
  },
  {
   "cell_type": "code",
   "execution_count": 14,
   "metadata": {},
   "outputs": [
    {
     "output_type": "execute_result",
     "data": {
      "text/plain": [
       "RandomForestRegressor()"
      ]
     },
     "metadata": {},
     "execution_count": 14
    }
   ],
   "source": [
    "ml = RandomForestRegressor()\n",
    "ml.fit(X, Y)"
   ]
  },
  {
   "cell_type": "code",
   "execution_count": 15,
   "metadata": {},
   "outputs": [],
   "source": [
    "predict_X = pd.get_dummies(test_onehot, columns = str_col_onehot)\n",
    "\n",
    "for col in predict_X.columns:\n",
    "    if predict_X[col].dtype == 'object':\n",
    "        predict_X.drop(col, axis = 1, inplace = True)\n",
    "    if col.find('Stop') != -1:\n",
    "        predict_X.drop(col, axis = 1, inplace = True)"
   ]
  },
  {
   "cell_type": "code",
   "execution_count": 16,
   "metadata": {},
   "outputs": [
    {
     "output_type": "stream",
     "name": "stdout",
     "text": [
      "<class 'pandas.core.frame.DataFrame'>\nRangeIndex: 1921357 entries, 0 to 1921356\nData columns (total 26 columns):\n #   Column             Dtype  \n---  ------             -----  \n 0   IntersectionId     int64  \n 1   Latitude           float64\n 2   Longitude          float64\n 3   Hour               int64  \n 4   Weekend            int64  \n 5   Month              int64  \n 6   City_Atlanta       uint8  \n 7   City_Boston        uint8  \n 8   City_Chicago       uint8  \n 9   City_Philadelphia  uint8  \n 10  EntryHeading_E     uint8  \n 11  EntryHeading_N     uint8  \n 12  EntryHeading_NE    uint8  \n 13  EntryHeading_NW    uint8  \n 14  EntryHeading_S     uint8  \n 15  EntryHeading_SE    uint8  \n 16  EntryHeading_SW    uint8  \n 17  EntryHeading_W     uint8  \n 18  ExitHeading_E      uint8  \n 19  ExitHeading_N      uint8  \n 20  ExitHeading_NE     uint8  \n 21  ExitHeading_NW     uint8  \n 22  ExitHeading_S      uint8  \n 23  ExitHeading_SE     uint8  \n 24  ExitHeading_SW     uint8  \n 25  ExitHeading_W      uint8  \ndtypes: float64(2), int64(4), uint8(20)\nmemory usage: 124.6 MB\n"
     ]
    }
   ],
   "source": [
    "predict_X.info()"
   ]
  },
  {
   "cell_type": "code",
   "execution_count": 17,
   "metadata": {},
   "outputs": [
    {
     "output_type": "execute_result",
     "data": {
      "text/plain": [
       "array([[ 0.16 ,  2.05 , 22.05 ,  1.062, 10.587, 56.045],\n",
       "       [ 0.   ,  0.19 , 18.33 ,  0.   ,  0.649, 42.57 ],\n",
       "       [ 0.   ,  0.19 ,  2.46 ,  0.   ,  0.649, 13.088],\n",
       "       ...,\n",
       "       [ 0.   ,  0.   ,  4.01 ,  0.   ,  0.   , 21.422],\n",
       "       [ 0.   ,  0.   ,  0.   ,  0.   ,  0.   ,  0.   ],\n",
       "       [ 0.   ,  0.   ,  0.   ,  0.   ,  0.   ,  0.   ]])"
      ]
     },
     "metadata": {},
     "execution_count": 17
    }
   ],
   "source": [
    "predict_Y = ml.predict(predict_X)\n",
    "predict_Y"
   ]
  },
  {
   "cell_type": "code",
   "execution_count": 18,
   "metadata": {},
   "outputs": [
    {
     "output_type": "execute_result",
     "data": {
      "text/plain": [
       "11528142"
      ]
     },
     "metadata": {},
     "execution_count": 18
    }
   ],
   "source": [
    "predict_Y.size"
   ]
  },
  {
   "cell_type": "code",
   "execution_count": 19,
   "metadata": {},
   "outputs": [],
   "source": [
    "# predict_Y = pd.DataFrame(predict_Y)\n",
    "# predict_Y.rename(columns= {0: '_0', 1: '_1', 2: '_2', 3: '_3', 4: '_4', 5: '_5'}, inplace = True)\n",
    "# a = predict_Y.head().groupby(level=0)\n",
    "# a.groups\n",
    "predict_Y = pd.DataFrame(np.ravel(predict_Y))\n",
    "predict_Y_index = (predict_Y.index // 6).astype('string') + '_' + (predict_Y.index % 6).astype('string')\n",
    "predict_Y.set_index(predict_Y_index, inplace=True)"
   ]
  },
  {
   "cell_type": "code",
   "execution_count": 20,
   "metadata": {},
   "outputs": [],
   "source": [
    "submission = predict_Y.loc[:'1920334_5']"
   ]
  },
  {
   "cell_type": "code",
   "execution_count": 21,
   "metadata": {
    "tags": []
   },
   "outputs": [],
   "source": [
    "submission.to_csv(\"submission_rf.csv\")"
   ]
  }
 ]
}
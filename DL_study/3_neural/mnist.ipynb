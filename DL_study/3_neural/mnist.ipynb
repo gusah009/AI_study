{
 "cells": [
  {
   "cell_type": "code",
   "execution_count": 41,
   "source": [
    "import sys, os\r\n",
    "sys.path.append(os.pardir)\r\n",
    "import numpy as np\r\n",
    "from dataset.mnist import load_mnist\r\n",
    "from PIL import Image\r\n",
    "import pickle\r\n",
    "\r\n",
    "from simple_neural import activate_function"
   ],
   "outputs": [],
   "metadata": {}
  },
  {
   "cell_type": "code",
   "execution_count": 13,
   "source": [
    "def get_data():\r\n",
    "  (x_train, y_train), (x_test, y_test) = \\\r\n",
    "    load_mnist(flatten=True, normalize=True, one_hot_label=False)\r\n",
    "  return x_test, y_test\r\n",
    "#### 인수 ####\r\n",
    "# normalize: 0.0 ~ 1.0 정규화 할 것인지\r\n",
    "# flatten: 입력 이미지를 1차원으로 만들것인지\r\n",
    "# one_hot_label: 원 핫 인코딩을 진행할 것인가"
   ],
   "outputs": [],
   "metadata": {}
  },
  {
   "cell_type": "code",
   "execution_count": 39,
   "source": [
    "def init_network():\r\n",
    "  with open(\"sample_weight.pkl\", 'rb') as f:\r\n",
    "    network = pickle.load(f)\r\n",
    "  return network"
   ],
   "outputs": [],
   "metadata": {}
  },
  {
   "cell_type": "code",
   "execution_count": 42,
   "source": [
    "def predict(network, x):\r\n",
    "  W1, W2, W3 = network['W1'], network['W2'], network['W3']\r\n",
    "  b1, b2, b3 = network['b1'], network['b2'], network['b3']\r\n",
    "\r\n",
    "  A1 = np.dot(x, W1) + b1\r\n",
    "  Z1 = activate_function.sigmoid(A1)\r\n",
    "  A2 = np.dot(Z1, W2) + b2\r\n",
    "  Z2 = activate_function.sigmoid(A2)\r\n",
    "  A3 = np.dot(Z2, W3) + b3\r\n",
    "  Y = activate_function.softmax(A3)\r\n",
    "\r\n",
    "  return Y"
   ],
   "outputs": [],
   "metadata": {}
  },
  {
   "cell_type": "markdown",
   "source": [
    "### mnist 이미지 확인"
   ],
   "metadata": {}
  },
  {
   "cell_type": "code",
   "execution_count": 34,
   "source": [
    "def img_show(img):\r\n",
    "  pil_img = Image.fromarray((img * 255.0).astype('uint8'))\r\n",
    "  pil_img.show()"
   ],
   "outputs": [],
   "metadata": {}
  },
  {
   "cell_type": "code",
   "execution_count": 35,
   "source": [
    "x_test, y_test = get_data()\r\n",
    "img = x_test[0]\r\n",
    "label = y_test[0]\r\n",
    "print(label)\r\n",
    "img_show(img.reshape(28, 28))"
   ],
   "outputs": [],
   "metadata": {}
  },
  {
   "cell_type": "markdown",
   "source": [
    "### 신경망 구현"
   ],
   "metadata": {}
  },
  {
   "cell_type": "code",
   "execution_count": 52,
   "source": [
    "x, t = get_data()\r\n",
    "network = init_network()\r\n",
    "\r\n",
    "batch_size = 100\r\n",
    "accuracy_cnt = 0\r\n",
    "\r\n",
    "for i in range(0, len(x), batch_size):\r\n",
    "  x_batch = x[i : i + batch_size]\r\n",
    "  y_batch = predict(network, x_batch)\r\n",
    "  p = np.argmax(y_batch, axis=1)\r\n",
    "  accuracy_cnt += np.sum(p == t[i : i + batch_size])\r\n",
    "\r\n",
    "print(\"Accuracy: \" + str(float(accuracy_cnt) / len(x)))"
   ],
   "outputs": [
    {
     "output_type": "stream",
     "name": "stdout",
     "text": [
      "Accuracy: 0.9352\n"
     ]
    }
   ],
   "metadata": {}
  },
  {
   "cell_type": "code",
   "execution_count": 49,
   "source": [
    "x, y = get_data()\r\n",
    "print(x.shape)\r\n",
    "print(y[0])"
   ],
   "outputs": [
    {
     "output_type": "stream",
     "name": "stdout",
     "text": [
      "(10000, 784)\n",
      "7\n"
     ]
    }
   ],
   "metadata": {}
  },
  {
   "cell_type": "code",
   "execution_count": null,
   "source": [],
   "outputs": [],
   "metadata": {}
  }
 ],
 "metadata": {
  "orig_nbformat": 4,
  "language_info": {
   "name": "python",
   "version": "3.8.6",
   "mimetype": "text/x-python",
   "codemirror_mode": {
    "name": "ipython",
    "version": 3
   },
   "pygments_lexer": "ipython3",
   "nbconvert_exporter": "python",
   "file_extension": ".py"
  },
  "kernelspec": {
   "name": "python3",
   "display_name": "Python 3.8.6 64-bit"
  },
  "interpreter": {
   "hash": "2db524e06e9f5f4ffedc911c917cb75e12dbc923643829bf417064a77eb14d37"
  }
 },
 "nbformat": 4,
 "nbformat_minor": 2
}
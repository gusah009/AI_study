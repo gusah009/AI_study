{
 "metadata": {
  "language_info": {
   "codemirror_mode": {
    "name": "ipython",
    "version": 3
   },
   "file_extension": ".py",
   "mimetype": "text/x-python",
   "name": "python",
   "nbconvert_exporter": "python",
   "pygments_lexer": "ipython3",
   "version": "3.8.6"
  },
  "orig_nbformat": 2,
  "kernelspec": {
   "name": "python386jvsc74a57bd02db524e06e9f5f4ffedc911c917cb75e12dbc923643829bf417064a77eb14d37",
   "display_name": "Python 3.8.6 64-bit"
  },
  "metadata": {
   "interpreter": {
    "hash": "2db524e06e9f5f4ffedc911c917cb75e12dbc923643829bf417064a77eb14d37"
   }
  }
 },
 "nbformat": 4,
 "nbformat_minor": 2,
 "cells": [
  {
   "cell_type": "code",
   "execution_count": 1,
   "metadata": {},
   "outputs": [],
   "source": [
    "def load_json(fname):\n",
    "    with open(fname, encoding=\"utf-8\") as f:\n",
    "        json_obj = json.load(f)\n",
    "\n",
    "    return json_obj\n",
    "\n",
    "# arena_util.py 에서 가져옴"
   ]
  },
  {
   "cell_type": "code",
   "execution_count": 2,
   "metadata": {},
   "outputs": [],
   "source": [
    "import json"
   ]
  },
  {
   "cell_type": "code",
   "execution_count": 3,
   "metadata": {},
   "outputs": [],
   "source": [
    "genre = load_json('res/genre_gn_all.json')\n",
    "song_meta = load_json('res/song_meta.json')\n",
    "test = load_json('res/test.json')\n",
    "train = load_json('res/train.json')\n",
    "val = load_json('res/val.json')"
   ]
  },
  {
   "cell_type": "code",
   "execution_count": 5,
   "metadata": {
    "tags": []
   },
   "outputs": [
    {
     "output_type": "execute_result",
     "data": {
      "text/plain": [
       "dict_keys(['tags', 'id', 'plylst_title', 'songs', 'like_cnt', 'updt_date'])"
      ]
     },
     "metadata": {},
     "execution_count": 5
    }
   ],
   "source": [
    "train[0].keys()"
   ]
  },
  {
   "cell_type": "code",
   "execution_count": 6,
   "metadata": {},
   "outputs": [
    {
     "output_type": "execute_result",
     "data": {
      "text/plain": [
       "dict_keys(['tags', 'id', 'plylst_title', 'songs', 'like_cnt', 'updt_date'])"
      ]
     },
     "metadata": {},
     "execution_count": 6
    }
   ],
   "source": [
    "test[0].keys()"
   ]
  },
  {
   "cell_type": "code",
   "execution_count": 7,
   "metadata": {},
   "outputs": [
    {
     "output_type": "execute_result",
     "data": {
      "text/plain": [
       "dict_keys(['tags', 'id', 'plylst_title', 'songs', 'like_cnt', 'updt_date'])"
      ]
     },
     "metadata": {},
     "execution_count": 7
    }
   ],
   "source": [
    "val[0].keys()"
   ]
  },
  {
   "cell_type": "code",
   "execution_count": 8,
   "metadata": {},
   "outputs": [
    {
     "output_type": "execute_result",
     "data": {
      "text/plain": [
       "dict_keys(['song_gn_dtl_gnr_basket', 'issue_date', 'album_name', 'album_id', 'artist_id_basket', 'song_name', 'song_gn_gnr_basket', 'artist_name_basket', 'id'])"
      ]
     },
     "metadata": {},
     "execution_count": 8
    }
   ],
   "source": [
    "song_meta[0].keys()"
   ]
  },
  {
   "cell_type": "code",
   "execution_count": 9,
   "metadata": {},
   "outputs": [
    {
     "output_type": "execute_result",
     "data": {
      "text/plain": [
       "{'tags': ['락'],\n",
       " 'id': 61281,\n",
       " 'plylst_title': '여행같은 음악',\n",
       " 'songs': [525514,\n",
       "  129701,\n",
       "  383374,\n",
       "  562083,\n",
       "  297861,\n",
       "  139541,\n",
       "  351214,\n",
       "  650298,\n",
       "  531057,\n",
       "  205238,\n",
       "  706183,\n",
       "  127099,\n",
       "  660493,\n",
       "  461973,\n",
       "  121455,\n",
       "  72552,\n",
       "  223955,\n",
       "  324992,\n",
       "  50104],\n",
       " 'like_cnt': 71,\n",
       " 'updt_date': '2013-12-19 18:36:19.000'}"
      ]
     },
     "metadata": {},
     "execution_count": 9
    }
   ],
   "source": [
    "train[0]"
   ]
  },
  {
   "cell_type": "code",
   "execution_count": 4,
   "metadata": {},
   "outputs": [],
   "source": [
    "import numpy as np"
   ]
  },
  {
   "cell_type": "code",
   "execution_count": 5,
   "metadata": {},
   "outputs": [],
   "source": [
    "# 81.469002219 GB\n",
    "#train_data = np.zeros((len(train), len(song_meta)))"
   ]
  },
  {
   "cell_type": "code",
   "execution_count": 6,
   "metadata": {},
   "outputs": [
    {
     "output_type": "stream",
     "name": "stdout",
     "text": [
      "115071\n707989\n"
     ]
    }
   ],
   "source": [
    "print(len(train))\n",
    "print(len(song_meta))"
   ]
  },
  {
   "cell_type": "code",
   "execution_count": 7,
   "metadata": {},
   "outputs": [
    {
     "output_type": "execute_result",
     "data": {
      "text/plain": [
       "{'song_gn_dtl_gnr_basket': ['GN0901'],\n",
       " 'issue_date': '20140512',\n",
       " 'album_name': '불후의 명곡 - 7080 추억의 얄개시대 팝송베스트',\n",
       " 'album_id': 2255639,\n",
       " 'artist_id_basket': [2727],\n",
       " 'song_name': 'Feelings',\n",
       " 'song_gn_gnr_basket': ['GN0900'],\n",
       " 'artist_name_basket': ['Various Artists'],\n",
       " 'id': 0}"
      ]
     },
     "metadata": {},
     "execution_count": 7
    }
   ],
   "source": [
    "song_meta[0]"
   ]
  },
  {
   "cell_type": "code",
   "execution_count": 8,
   "metadata": {},
   "outputs": [
    {
     "output_type": "stream",
     "name": "stdout",
     "text": [
      "29160\n"
     ]
    }
   ],
   "source": [
    "tags = {}\n",
    "for data in train:\n",
    "    for tag in data['tags']:\n",
    "        if tag in tags:\n",
    "            tags[tag] += 1\n",
    "        else:\n",
    "            tags[tag] = 1\n",
    "\n",
    "print(len(tags))"
   ]
  },
  {
   "cell_type": "code",
   "execution_count": 9,
   "metadata": {},
   "outputs": [
    {
     "output_type": "stream",
     "name": "stdout",
     "text": [
      "17431\n"
     ]
    }
   ],
   "source": [
    "uniq = 0\n",
    "for tag in tags:\n",
    "    if tags[tag] == 1:\n",
    "        uniq += 1\n",
    "print(uniq)"
   ]
  },
  {
   "cell_type": "code",
   "execution_count": 10,
   "metadata": {},
   "outputs": [
    {
     "output_type": "execute_result",
     "data": {
      "text/plain": [
       "[('기분전환', 16465), ('감성', 11417), ('휴식', 11215), ('발라드', 10796), ('잔잔한', 10218)]"
      ]
     },
     "metadata": {},
     "execution_count": 10
    }
   ],
   "source": [
    "res = sorted(tags.items(), key=lambda x: x[1], reverse=True)\n",
    "res[:5]"
   ]
  },
  {
   "cell_type": "code",
   "execution_count": 11,
   "metadata": {},
   "outputs": [
    {
     "output_type": "execute_result",
     "data": {
      "text/plain": [
       "{'GN0100': '발라드',\n",
       " 'GN0101': '세부장르전체',\n",
       " 'GN0102': \"'80\",\n",
       " 'GN0103': \"'90\",\n",
       " 'GN0104': \"'00\",\n",
       " 'GN0105': \"'10-\",\n",
       " 'GN0200': '댄스',\n",
       " 'GN0201': '세부장르전체',\n",
       " 'GN0202': \"'80\",\n",
       " 'GN0203': \"'90\",\n",
       " 'GN0204': \"'00\",\n",
       " 'GN0205': \"'10-\",\n",
       " 'GN0300': '랩/힙합',\n",
       " 'GN0301': '세부장르전체',\n",
       " 'GN0302': '랩 스타일',\n",
       " 'GN0303': '보컬 스타일',\n",
       " 'GN0304': '언더그라운드 힙합',\n",
       " 'GN0305': '시대별',\n",
       " 'GN0400': 'R&B/Soul',\n",
       " 'GN0401': '세부장르전체',\n",
       " 'GN0402': '어반',\n",
       " 'GN0403': 'R&B',\n",
       " 'GN0500': '인디음악',\n",
       " 'GN0501': '세부장르전체',\n",
       " 'GN0502': '포크',\n",
       " 'GN0503': '록',\n",
       " 'GN0504': '일렉',\n",
       " 'GN0505': '힙합',\n",
       " 'GN0506': '발라드',\n",
       " 'GN0507': \"'90\",\n",
       " 'GN0508': \"'00\",\n",
       " 'GN0509': \"'10-\",\n",
       " 'GN0600': '록/메탈',\n",
       " 'GN0601': '세부장르전체',\n",
       " 'GN0602': \"'70\",\n",
       " 'GN0603': \"'80\",\n",
       " 'GN0604': \"'90\",\n",
       " 'GN0605': \"'00\",\n",
       " 'GN0606': \"'10-\",\n",
       " 'GN0700': '성인가요',\n",
       " 'GN0701': '세부장르전체',\n",
       " 'GN0702': '신세대트로트',\n",
       " 'GN0703': '전설의트로트',\n",
       " 'GN0704': '뽕짝트로트',\n",
       " 'GN0705': '트로트메들리',\n",
       " 'GN0706': \"트로트'60-'70\",\n",
       " 'GN0707': \"트로트'80-'90\",\n",
       " 'GN0708': \"트로트'00-\",\n",
       " 'GN0709': \"성인가요'80-'90\",\n",
       " 'GN0710': \"성인가요'00-\",\n",
       " 'GN0800': '포크/블루스',\n",
       " 'GN0801': '세부장르전체',\n",
       " 'GN0802': \"'60-'70\",\n",
       " 'GN0803': \"'80-'90\",\n",
       " 'GN0804': \"'00\",\n",
       " 'GN0805': \"'10-\",\n",
       " 'GN0900': 'POP',\n",
       " 'GN0901': '세부장르전체',\n",
       " 'GN0902': '얼터너티브팝',\n",
       " 'GN0903': '올디스',\n",
       " 'GN0904': '월드팝',\n",
       " 'GN0905': \"'60-'70\",\n",
       " 'GN0906': \"'80-'90\",\n",
       " 'GN0907': \"'00\",\n",
       " 'GN0908': \"'10-\",\n",
       " 'GN1000': '록/메탈',\n",
       " 'GN1001': '세부장르전체',\n",
       " 'GN1002': '모던록',\n",
       " 'GN1003': '얼터너티브록',\n",
       " 'GN1004': '프로그레시브/아트록',\n",
       " 'GN1005': '하드록',\n",
       " 'GN1006': '헤비메탈',\n",
       " 'GN1007': '뉴메탈/하드코어',\n",
       " 'GN1008': '포스트록',\n",
       " 'GN1009': \"'60\",\n",
       " 'GN1010': \"'70\",\n",
       " 'GN1011': \"'80\",\n",
       " 'GN1012': \"'90\",\n",
       " 'GN1013': \"'00\",\n",
       " 'GN1014': \"'10-\",\n",
       " 'GN1100': '일렉트로니카',\n",
       " 'GN1101': '세부장르전체',\n",
       " 'GN1102': '일렉트로니카',\n",
       " 'GN1103': '하우스',\n",
       " 'GN1104': '클럽뮤직',\n",
       " 'GN1105': '일렉트로닉팝',\n",
       " 'GN1106': \"'80\",\n",
       " 'GN1107': \"'90\",\n",
       " 'GN1108': \"'00\",\n",
       " 'GN1109': \"'10-\",\n",
       " 'GN1200': '랩/힙합',\n",
       " 'GN1201': '세부장르전체',\n",
       " 'GN1202': '팝랩',\n",
       " 'GN1203': '얼터너티브힙합',\n",
       " 'GN1204': '갱스터/하드코어랩',\n",
       " 'GN1205': 'East&West',\n",
       " 'GN1206': \"'80\",\n",
       " 'GN1207': \"'90\",\n",
       " 'GN1208': \"'00\",\n",
       " 'GN1209': \"'10-\",\n",
       " 'GN1300': 'R&B/Soul',\n",
       " 'GN1301': '세부장르전체',\n",
       " 'GN1302': '컨템포러리 R&B',\n",
       " 'GN1303': '소울',\n",
       " 'GN1304': '어반',\n",
       " 'GN1305': \"'60-'70\",\n",
       " 'GN1306': \"'80-'90\",\n",
       " 'GN1307': \"'00\",\n",
       " 'GN1308': \"'10-\",\n",
       " 'GN1400': '포크/블루스/컨트리',\n",
       " 'GN1401': '세부장르전체',\n",
       " 'GN1402': '포크',\n",
       " 'GN1403': '블루스',\n",
       " 'GN1404': '컨트리',\n",
       " 'GN1405': \"'60-'70\",\n",
       " 'GN1406': \"'80-'90\",\n",
       " 'GN1407': \"'00-\",\n",
       " 'GN1500': 'OST',\n",
       " 'GN1501': '세부장르전체',\n",
       " 'GN1502': '국내영화',\n",
       " 'GN1503': '국외영화',\n",
       " 'GN1504': '국내드라마',\n",
       " 'GN1505': '국외드라마',\n",
       " 'GN1506': '애니메이션/게임',\n",
       " 'GN1507': '국내뮤지컬',\n",
       " 'GN1508': '국외뮤지컬',\n",
       " 'GN1509': '애니메이션/웹툰',\n",
       " 'GN1510': '게임',\n",
       " 'GN1600': '클래식',\n",
       " 'GN1601': '세부장르전체',\n",
       " 'GN1602': '관현악',\n",
       " 'GN1603': '교향곡',\n",
       " 'GN1604': '실내악',\n",
       " 'GN1605': '협주곡',\n",
       " 'GN1606': '독주곡',\n",
       " 'GN1607': '오페라',\n",
       " 'GN1608': '크로스오버',\n",
       " 'GN1609': '현대음악',\n",
       " 'GN1610': '성악/합창곡',\n",
       " 'GN1611': '발레/무용',\n",
       " 'GN1612': '지휘/연주자',\n",
       " 'GN1613': '컴필레이션',\n",
       " 'GN1614': '교향/관현악',\n",
       " 'GN1615': '오페라/성악',\n",
       " 'GN1700': '재즈',\n",
       " 'GN1701': '세부장르전체',\n",
       " 'GN1702': '보컬재즈',\n",
       " 'GN1703': '애시드/퓨전/팝',\n",
       " 'GN1704': 'Bop',\n",
       " 'GN1705': '보사노바',\n",
       " 'GN1706': 'J-Jazz',\n",
       " 'GN1707': '라틴재즈',\n",
       " 'GN1708': '빅밴드/스윙',\n",
       " 'GN1709': '악기별',\n",
       " 'GN1710': '컴필레이션',\n",
       " 'GN1800': '뉴에이지',\n",
       " 'GN1801': '세부장르전체',\n",
       " 'GN1802': '이지리스닝',\n",
       " 'GN1803': 'J-Newage',\n",
       " 'GN1804': '기능성음악',\n",
       " 'GN1805': '기타',\n",
       " 'GN1806': '피아노',\n",
       " 'GN1807': '컴필레이션',\n",
       " 'GN1900': 'J-POP',\n",
       " 'GN1901': '세부장르전체',\n",
       " 'GN1902': 'POP',\n",
       " 'GN1903': '록',\n",
       " 'GN1904': '일렉트로니카',\n",
       " 'GN1905': '랩/힙합',\n",
       " 'GN1906': 'R&B/Soul',\n",
       " 'GN1907': '시부야케이',\n",
       " 'GN1908': '뉴에이지',\n",
       " 'GN1909': '재즈',\n",
       " 'GN1910': '힙합/R&B',\n",
       " 'GN1911': \"'80-'90\",\n",
       " 'GN1912': \"'00-'10\",\n",
       " 'GN2000': '월드뮤직',\n",
       " 'GN2001': '세부장르전체',\n",
       " 'GN2002': '샹송/프렌치팝',\n",
       " 'GN2003': '칸초네/이탈리안팝',\n",
       " 'GN2004': '중국음악',\n",
       " 'GN2005': '켈틱/아이리시',\n",
       " 'GN2006': '브라질',\n",
       " 'GN2007': '탱고/플라멩코',\n",
       " 'GN2008': '라틴',\n",
       " 'GN2009': '레게',\n",
       " 'GN2010': '파두',\n",
       " 'GN2100': 'CCM',\n",
       " 'GN2101': '세부장르전체',\n",
       " 'GN2102': '국내CCM',\n",
       " 'GN2103': '국외CCM',\n",
       " 'GN2104': '워십',\n",
       " 'GN2105': '찬송가',\n",
       " 'GN2106': '성가',\n",
       " 'GN2107': '연주곡',\n",
       " 'GN2108': '어린이',\n",
       " 'GN2109': '성경',\n",
       " 'GN2110': 'NEW',\n",
       " 'GN2200': '어린이/태교',\n",
       " 'GN2201': '유아동요',\n",
       " 'GN2202': '창작동요',\n",
       " 'GN2203': '영어동요',\n",
       " 'GN2204': '영어동요',\n",
       " 'GN2205': '영어동요',\n",
       " 'GN2206': '영어동화',\n",
       " 'GN2207': '만화',\n",
       " 'GN2208': '자장가',\n",
       " 'GN2209': '태교동화',\n",
       " 'GN2210': '태교',\n",
       " 'GN2211': '릴렉싱&힐링',\n",
       " 'GN2212': '명작동화',\n",
       " 'GN2213': '교과서동요',\n",
       " 'GN2214': '전래동요',\n",
       " 'GN2215': '창작동화',\n",
       " 'GN2216': '어린이클래식',\n",
       " 'GN2300': '종교음악',\n",
       " 'GN2301': '가톨릭',\n",
       " 'GN2302': '불교',\n",
       " 'GN2400': '국악',\n",
       " 'GN2401': '세부장르전체',\n",
       " 'GN2402': '크로스오버',\n",
       " 'GN2403': '국악가요',\n",
       " 'GN2404': '민요',\n",
       " 'GN2405': '판소리/단가',\n",
       " 'GN2406': '풍물/사물놀이',\n",
       " 'GN2500': '아이돌',\n",
       " 'GN2501': '세부장르전체',\n",
       " 'GN2502': '남자 아이돌',\n",
       " 'GN2503': '여자 아이돌',\n",
       " 'GN2504': '랩/힙합',\n",
       " 'GN2505': '발라드',\n",
       " 'GN2506': '댄스',\n",
       " 'GN2600': '일렉트로니카',\n",
       " 'GN2601': '세부장르전체',\n",
       " 'GN2602': '댄스 스타일',\n",
       " 'GN2603': '팝 스타일',\n",
       " 'GN2604': '시대별',\n",
       " 'GN2700': 'EDM',\n",
       " 'GN2701': '세부장르전체',\n",
       " 'GN2702': '하우스',\n",
       " 'GN2703': '클럽',\n",
       " 'GN2704': 'DJ',\n",
       " 'GN2800': '뮤직테라피',\n",
       " 'GN2801': '세부장르전체',\n",
       " 'GN2802': 'ASMR/자연',\n",
       " 'GN2803': '힐링/명상/요가',\n",
       " 'GN2804': '집중력',\n",
       " 'GN2805': '숙면유도',\n",
       " 'GN2806': '반려동물',\n",
       " 'GN2900': '뮤지컬',\n",
       " 'GN2901': '세부장르전체',\n",
       " 'GN2902': '국내뮤지컬',\n",
       " 'GN2903': '국외뮤지컬',\n",
       " 'GN3000': '크리스마스'}"
      ]
     },
     "metadata": {},
     "execution_count": 11
    }
   ],
   "source": [
    "genre"
   ]
  },
  {
   "cell_type": "code",
   "execution_count": 12,
   "metadata": {},
   "outputs": [
    {
     "output_type": "execute_result",
     "data": {
      "text/plain": [
       "(100, 707989)"
      ]
     },
     "metadata": {},
     "execution_count": 12
    }
   ],
   "source": [
    "train_data = np.zeros((100, len(song_meta)))\n",
    "train_data.shape"
   ]
  },
  {
   "cell_type": "code",
   "execution_count": 13,
   "metadata": {},
   "outputs": [],
   "source": [
    "answer = []"
   ]
  },
  {
   "cell_type": "code",
   "execution_count": 14,
   "metadata": {},
   "outputs": [],
   "source": [
    "def write_json(data, fname):\n",
    "    def _conv(o):\n",
    "        if isinstance(o, (np.int64, np.int32)):\n",
    "            return int(o)\n",
    "        raise TypeError\n",
    "\n",
    "    parent = os.path.dirname(fname)\n",
    "    distutils.dir_util.mkpath(\"./arena_data/\" + parent)\n",
    "    with io.open(\"./arena_data/\" + fname, \"w\", encoding=\"utf-8\") as f:\n",
    "        json_str = json.dumps(data, ensure_ascii=False, default=_conv)\n",
    "        f.write(json_str)"
   ]
  },
  {
   "cell_type": "code",
   "execution_count": 15,
   "metadata": {},
   "outputs": [],
   "source": [
    "import matplotlib.pyplot as plt\n",
    "import numpy as np\n",
    "# import pandas as pd\n",
    "import tensorflow as tf\n",
    "\n",
    "from sklearn.metrics import accuracy_score, precision_score, recall_score\n",
    "from sklearn.model_selection import train_test_split\n",
    "from tensorflow.keras import layers, losses\n",
    "from tensorflow.keras.datasets import fashion_mnist\n",
    "from tensorflow.keras.models import Model\n",
    "from tensorflow.keras.models import Sequential"
   ]
  },
  {
   "cell_type": "code",
   "execution_count": 16,
   "metadata": {},
   "outputs": [
    {
     "output_type": "execute_result",
     "data": {
      "text/plain": [
       "23015"
      ]
     },
     "metadata": {},
     "execution_count": 16
    }
   ],
   "source": [
    "len(val)"
   ]
  },
  {
   "cell_type": "code",
   "execution_count": 17,
   "metadata": {},
   "outputs": [
    {
     "output_type": "execute_result",
     "data": {
      "text/plain": [
       "(100, 707989)"
      ]
     },
     "metadata": {},
     "execution_count": 17
    }
   ],
   "source": [
    "val_data = np.zeros((100, len(song_meta)))\n",
    "val_data.shape"
   ]
  },
  {
   "cell_type": "code",
   "execution_count": 18,
   "metadata": {},
   "outputs": [],
   "source": [
    "for i in range(100):\n",
    "    for song in val[i]['songs']:\n",
    "        val_data[i][song] = 1"
   ]
  },
  {
   "cell_type": "code",
   "execution_count": 19,
   "metadata": {},
   "outputs": [],
   "source": [
    "latent_dim = 10000\n",
    "\n",
    "class Autoencoder(Model):\n",
    "  def __init__(self, encoding_dim):\n",
    "    super(Autoencoder, self).__init__()\n",
    "    self.latent_dim = latent_dim   \n",
    "    self.encoder = Sequential([\n",
    "    #   layers.Flatten(),\n",
    "      layers.Dense(latent_dim, activation='relu'),\n",
    "    ])\n",
    "    self.decoder = Sequential([\n",
    "      layers.Dense(len(song_meta), activation='sigmoid'),\n",
    "    #   layers.Reshape((28, 28))\n",
    "    ])\n",
    "\n",
    "  def call(self, x):\n",
    "    encoded = self.encoder(x)\n",
    "    decoded = self.decoder(encoded)\n",
    "    return decoded\n",
    "\n",
    "autoencoder = Autoencoder(latent_dim)"
   ]
  },
  {
   "cell_type": "code",
   "execution_count": 20,
   "metadata": {},
   "outputs": [],
   "source": [
    "autoencoder.compile(optimizer='adam', loss=losses.MeanSquaredError())"
   ]
  },
  {
   "cell_type": "code",
   "execution_count": 17,
   "metadata": {},
   "outputs": [
    {
     "output_type": "error",
     "ename": "NameError",
     "evalue": "name 'train_data' is not defined",
     "traceback": [
      "\u001b[1;31m---------------------------------------------------------------------------\u001b[0m",
      "\u001b[1;31mNameError\u001b[0m                                 Traceback (most recent call last)",
      "\u001b[1;32m<ipython-input-17-0e8a1666017a>\u001b[0m in \u001b[0;36m<module>\u001b[1;34m\u001b[0m\n\u001b[0;32m      2\u001b[0m     \u001b[1;32mfor\u001b[0m \u001b[0mj\u001b[0m \u001b[1;32min\u001b[0m \u001b[0mrange\u001b[0m\u001b[1;33m(\u001b[0m\u001b[1;36m100\u001b[0m\u001b[1;33m)\u001b[0m\u001b[1;33m:\u001b[0m\u001b[1;33m\u001b[0m\u001b[1;33m\u001b[0m\u001b[0m\n\u001b[0;32m      3\u001b[0m         \u001b[1;32mfor\u001b[0m \u001b[0msong\u001b[0m \u001b[1;32min\u001b[0m \u001b[0mtrain\u001b[0m\u001b[1;33m[\u001b[0m\u001b[0mi\u001b[0m \u001b[1;33m*\u001b[0m \u001b[1;36m100\u001b[0m \u001b[1;33m+\u001b[0m \u001b[0mj\u001b[0m\u001b[1;33m]\u001b[0m\u001b[1;33m[\u001b[0m\u001b[1;34m'songs'\u001b[0m\u001b[1;33m]\u001b[0m\u001b[1;33m:\u001b[0m\u001b[1;33m\u001b[0m\u001b[1;33m\u001b[0m\u001b[0m\n\u001b[1;32m----> 4\u001b[1;33m             \u001b[0mtrain_data\u001b[0m\u001b[1;33m[\u001b[0m\u001b[0mj\u001b[0m\u001b[1;33m]\u001b[0m\u001b[1;33m[\u001b[0m\u001b[0msong\u001b[0m\u001b[1;33m]\u001b[0m \u001b[1;33m=\u001b[0m \u001b[1;36m1\u001b[0m\u001b[1;33m\u001b[0m\u001b[1;33m\u001b[0m\u001b[0m\n\u001b[0m\u001b[0;32m      5\u001b[0m \u001b[1;33m\u001b[0m\u001b[0m\n\u001b[0;32m      6\u001b[0m     autoencoder.fit(train_data, train_data,\n",
      "\u001b[1;31mNameError\u001b[0m: name 'train_data' is not defined"
     ]
    }
   ],
   "source": [
    "for i in range(len(train) // 100):\n",
    "    for j in range(100):\n",
    "        for song in train[i * 100 + j]['songs']:\n",
    "            train_data[j][song] = 1\n",
    "\n",
    "    autoencoder.fit(train_data, train_data,\n",
    "                    epochs=1,\n",
    "                    shuffle=True,\n",
    "                    validation_data=(val_data, val_data))\n",
    "    \n",
    "    for j in range(100):\n",
    "        for song in train[i * 100 + j]['songs']:\n",
    "            train_data[j][song] = 0"
   ]
  },
  {
   "cell_type": "code",
   "execution_count": 18,
   "metadata": {},
   "outputs": [
    {
     "output_type": "error",
     "ename": "ValueError",
     "evalue": "This model has not yet been built. Build the model first by calling `build()` or calling `fit()` with some data, or specify an `input_shape` argument in the first layer(s) for automatic build.",
     "traceback": [
      "\u001b[1;31m---------------------------------------------------------------------------\u001b[0m",
      "\u001b[1;31mValueError\u001b[0m                                Traceback (most recent call last)",
      "\u001b[1;32m<ipython-input-18-f863917c1634>\u001b[0m in \u001b[0;36m<module>\u001b[1;34m\u001b[0m\n\u001b[1;32m----> 1\u001b[1;33m \u001b[0mautoencoder\u001b[0m\u001b[1;33m.\u001b[0m\u001b[0msummary\u001b[0m\u001b[1;33m(\u001b[0m\u001b[1;33m)\u001b[0m\u001b[1;33m\u001b[0m\u001b[1;33m\u001b[0m\u001b[0m\n\u001b[0m",
      "\u001b[1;32mC:\\Python38\\lib\\site-packages\\tensorflow\\python\\keras\\engine\\training.py\u001b[0m in \u001b[0;36msummary\u001b[1;34m(self, line_length, positions, print_fn)\u001b[0m\n\u001b[0;32m   2475\u001b[0m     \"\"\"\n\u001b[0;32m   2476\u001b[0m     \u001b[1;32mif\u001b[0m \u001b[1;32mnot\u001b[0m \u001b[0mself\u001b[0m\u001b[1;33m.\u001b[0m\u001b[0mbuilt\u001b[0m\u001b[1;33m:\u001b[0m\u001b[1;33m\u001b[0m\u001b[1;33m\u001b[0m\u001b[0m\n\u001b[1;32m-> 2477\u001b[1;33m       raise ValueError('This model has not yet been built. '\n\u001b[0m\u001b[0;32m   2478\u001b[0m                        \u001b[1;34m'Build the model first by calling `build()` or calling '\u001b[0m\u001b[1;33m\u001b[0m\u001b[1;33m\u001b[0m\u001b[0m\n\u001b[0;32m   2479\u001b[0m                        \u001b[1;34m'`fit()` with some data, or specify '\u001b[0m\u001b[1;33m\u001b[0m\u001b[1;33m\u001b[0m\u001b[0m\n",
      "\u001b[1;31mValueError\u001b[0m: This model has not yet been built. Build the model first by calling `build()` or calling `fit()` with some data, or specify an `input_shape` argument in the first layer(s) for automatic build."
     ]
    }
   ],
   "source": [
    "autoencoder.summary()"
   ]
  },
  {
   "cell_type": "code",
   "execution_count": null,
   "metadata": {},
   "outputs": [],
   "source": []
  },
  {
   "cell_type": "code",
   "execution_count": null,
   "metadata": {},
   "outputs": [],
   "source": [
    "answers.append({\n",
    "    \"id\": q[\"id\"],\n",
    "    \"songs\": remove_seen(q[\"songs\"], song_mp)[:100],\n",
    "    \"tags\": remove_seen(q[\"tags\"], tag_mp)[:10],\n",
    "})"
   ]
  }
 ]
}